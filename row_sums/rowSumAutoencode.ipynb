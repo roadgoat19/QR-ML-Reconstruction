{
 "cells": [
  {
   "cell_type": "code",
   "execution_count": 2,
   "id": "9730256b-943b-4b31-ab45-fa9124a4872b",
   "metadata": {},
   "outputs": [],
   "source": [
    "import numpy as np\n",
    "import pandas as pd\n",
    "import os, glob\n",
    "import torch\n",
    "import torch.nn as nn\n",
    "import torch.nn.functional as F\n",
    "import matplotlib.pyplot as plt\n",
    "from scipy import fft\n",
    "from sklearn.model_selection import train_test_split"
   ]
  },
  {
   "cell_type": "code",
   "execution_count": 3,
   "id": "027026bf-802f-4b99-8cbe-f57d0eee7c72",
   "metadata": {},
   "outputs": [
    {
     "name": "stdout",
     "output_type": "stream",
     "text": [
      "Using device: cuda\n",
      "2.6.0+cu118\n"
     ]
    }
   ],
   "source": [
    "device = torch.device(\n",
    "    \"cuda\" if torch.cuda.is_available() else \"cpu\")\n",
    "print(f'Using device: {device}')\n",
    "print(torch.__version__)"
   ]
  },
  {
   "cell_type": "code",
   "execution_count": 4,
   "id": "1aa1d745-50f8-47ac-86d1-fa860d2dbc32",
   "metadata": {},
   "outputs": [],
   "source": [
    "df = pd.read_csv('../regularset.csv') # reads in codes csv as a mutable df :-) contains message, ecl, code, dft cols\n"
   ]
  },
  {
   "cell_type": "code",
   "execution_count": 5,
   "id": "f368cea8-7ef7-444f-93b0-5b8bc8a9b6c4",
   "metadata": {},
   "outputs": [],
   "source": [
    "df = df.drop([0])\n",
    "df['dft'] = df['dft ']"
   ]
  },
  {
   "cell_type": "code",
   "execution_count": 6,
   "id": "9b8e9152-438f-43f3-8598-7f7f94a9e714",
   "metadata": {},
   "outputs": [],
   "source": [
    "# parse a colomn with a 2d array of each qr code\n",
    "df['code_array'] = df['code'].apply(lambda x: np.array([int(digit) for digit in x]).reshape(29, 29))\n",
    "df['code_oned'] = df['code'].apply(lambda x: np.array([int(digit) for digit in x])) # adds a code_oned column to our df which parses our entries from strs to ints"
   ]
  },
  {
   "cell_type": "code",
   "execution_count": 7,
   "id": "0208db52-62b3-4f3a-82d4-b180863dbe07",
   "metadata": {},
   "outputs": [],
   "source": [
    "# grabs a centered subarray of a given array with dimensions (2L+1) by (2L+1)\n",
    "def get_centered_subarray(array, L):\n",
    "    # old way -- \n",
    "    # L = (L * 2) + 1\n",
    "    # start = center - (L // 2)\n",
    "    # end = center + (L + 1) // 2\n",
    "    n = array.shape[0]\n",
    "    center = n // 2\n",
    "    start = center - L\n",
    "    end = center + 1 + L # start count after our center square\n",
    "    # Adjust indices to stay within array bounds\n",
    "    start = max(0, start)\n",
    "    end = min(n, end)\n",
    "    return array[start:end, start:end]"
   ]
  },
  {
   "cell_type": "code",
   "execution_count": 8,
   "id": "b526dea4-524e-410b-b4fe-da74204491f2",
   "metadata": {},
   "outputs": [
    {
     "data": {
      "text/plain": [
       "<bound method NDFrame.describe of                 message   ecl  \\\n",
       "1      p6EG4QY8KkhYnIqX   low   \n",
       "2      F9nH5ms4nKaowmGT   low   \n",
       "3      Wbfi9me34iIYUPa4   low   \n",
       "4      xFX738D9PFRFKrWY   low   \n",
       "5      NtIx1n7gwlUpBPdC   low   \n",
       "...                 ...   ...   \n",
       "59995  YJdWpCnjwlu1QbSN  high   \n",
       "59996  Q6uRfuOEDbFtkHJM  high   \n",
       "59997  uObBgAn5KAzhoBjg  high   \n",
       "59998  h3W7XErFozVHsUnH  high   \n",
       "59999  zQF5zP5gvhruSFKs  high   \n",
       "\n",
       "                                                    code  \\\n",
       "1      1111111001100000001100111111110000010000011111...   \n",
       "2      1111111000110000011100111111110000010001101001...   \n",
       "3      1111111000011101111010111111110000010001001110...   \n",
       "4      1111111001011010011100111111110000010010100101...   \n",
       "5      1111111001001101111100111111110000010101100110...   \n",
       "...                                                  ...   \n",
       "59995  1111111000000001011100111111110000010010100001...   \n",
       "59996  1111111001100100011100111111110000010101010110...   \n",
       "59997  1111111001010100001100111111110000010100000010...   \n",
       "59998  1111111010101000101010111111110000010111100000...   \n",
       "59999  1111111010011001101010111111110000010110011101...   \n",
       "\n",
       "                                                    dft   \\\n",
       "1      (424+0j)(27.757011330064774+7.867461988112133j...   \n",
       "2      (418+0j)(16.522865136187136+11.441750958157401...   \n",
       "3      (418+0j)(0.3939317196394976-3.4505053603448244...   \n",
       "4      (424+0j)(10.5156173248197-2.99888126415735j)(2...   \n",
       "5      (442+0j)(1.217245805333821+12.740408397321165j...   \n",
       "...                                                  ...   \n",
       "59995  (410+0j)(36.39705088958516+13.461040290918147j...   \n",
       "59996  (442+0j)(0.26929693639719243+12.35841302801509...   \n",
       "59997  (442+0j)(-10.545423606798366-5.520591652852198...   \n",
       "59998  (415+0j)(17.568709972430057+5.100740983278291j...   \n",
       "59999  (423+0j)(3.971658799161092+5.207639791215893j)...   \n",
       "\n",
       "                                                     dft  \\\n",
       "1      (424+0j)(27.757011330064774+7.867461988112133j...   \n",
       "2      (418+0j)(16.522865136187136+11.441750958157401...   \n",
       "3      (418+0j)(0.3939317196394976-3.4505053603448244...   \n",
       "4      (424+0j)(10.5156173248197-2.99888126415735j)(2...   \n",
       "5      (442+0j)(1.217245805333821+12.740408397321165j...   \n",
       "...                                                  ...   \n",
       "59995  (410+0j)(36.39705088958516+13.461040290918147j...   \n",
       "59996  (442+0j)(0.26929693639719243+12.35841302801509...   \n",
       "59997  (442+0j)(-10.545423606798366-5.520591652852198...   \n",
       "59998  (415+0j)(17.568709972430057+5.100740983278291j...   \n",
       "59999  (423+0j)(3.971658799161092+5.207639791215893j)...   \n",
       "\n",
       "                                              code_array  \\\n",
       "1      [[1, 1, 1, 1, 1, 1, 1, 0, 0, 1, 1, 0, 0, 0, 0,...   \n",
       "2      [[1, 1, 1, 1, 1, 1, 1, 0, 0, 0, 1, 1, 0, 0, 0,...   \n",
       "3      [[1, 1, 1, 1, 1, 1, 1, 0, 0, 0, 0, 1, 1, 1, 0,...   \n",
       "4      [[1, 1, 1, 1, 1, 1, 1, 0, 0, 1, 0, 1, 1, 0, 1,...   \n",
       "5      [[1, 1, 1, 1, 1, 1, 1, 0, 0, 1, 0, 0, 1, 1, 0,...   \n",
       "...                                                  ...   \n",
       "59995  [[1, 1, 1, 1, 1, 1, 1, 0, 0, 0, 0, 0, 0, 0, 0,...   \n",
       "59996  [[1, 1, 1, 1, 1, 1, 1, 0, 0, 1, 1, 0, 0, 1, 0,...   \n",
       "59997  [[1, 1, 1, 1, 1, 1, 1, 0, 0, 1, 0, 1, 0, 1, 0,...   \n",
       "59998  [[1, 1, 1, 1, 1, 1, 1, 0, 1, 0, 1, 0, 1, 0, 0,...   \n",
       "59999  [[1, 1, 1, 1, 1, 1, 1, 0, 1, 0, 0, 1, 1, 0, 0,...   \n",
       "\n",
       "                                               code_oned  \n",
       "1      [1, 1, 1, 1, 1, 1, 1, 0, 0, 1, 1, 0, 0, 0, 0, ...  \n",
       "2      [1, 1, 1, 1, 1, 1, 1, 0, 0, 0, 1, 1, 0, 0, 0, ...  \n",
       "3      [1, 1, 1, 1, 1, 1, 1, 0, 0, 0, 0, 1, 1, 1, 0, ...  \n",
       "4      [1, 1, 1, 1, 1, 1, 1, 0, 0, 1, 0, 1, 1, 0, 1, ...  \n",
       "5      [1, 1, 1, 1, 1, 1, 1, 0, 0, 1, 0, 0, 1, 1, 0, ...  \n",
       "...                                                  ...  \n",
       "59995  [1, 1, 1, 1, 1, 1, 1, 0, 0, 0, 0, 0, 0, 0, 0, ...  \n",
       "59996  [1, 1, 1, 1, 1, 1, 1, 0, 0, 1, 1, 0, 0, 1, 0, ...  \n",
       "59997  [1, 1, 1, 1, 1, 1, 1, 0, 0, 1, 0, 1, 0, 1, 0, ...  \n",
       "59998  [1, 1, 1, 1, 1, 1, 1, 0, 1, 0, 1, 0, 1, 0, 0, ...  \n",
       "59999  [1, 1, 1, 1, 1, 1, 1, 0, 1, 0, 0, 1, 1, 0, 0, ...  \n",
       "\n",
       "[59999 rows x 7 columns]>"
      ]
     },
     "execution_count": 8,
     "metadata": {},
     "output_type": "execute_result"
    }
   ],
   "source": [
    "df.describe"
   ]
  },
  {
   "cell_type": "code",
   "execution_count": 9,
   "id": "50968a5a-8ace-45e1-aace-1a968a95ac83",
   "metadata": {},
   "outputs": [],
   "source": [
    "def slopeSum(matrix,start,slope):\n",
    "        n = matrix.shape[0]\n",
    "        row, column = start[0],start[1]\n",
    "        rise, run = slope[0],slope[1]\n",
    "        rowSum = 0\n",
    "        rowSum += matrix[row][column]\n",
    "        for i in range(n-1):\n",
    "            newRow = abs(row+rise) % n\n",
    "            newColumn = abs(column+run) % n\n",
    "            rowSum += matrix[newRow][newColumn]\n",
    "            row = row+rise\n",
    "            column = column+run\n",
    "        return rowSum"
   ]
  },
  {
   "cell_type": "code",
   "execution_count": 10,
   "id": "ed7d1453-9496-4039-b147-05ca495ab9d5",
   "metadata": {},
   "outputs": [],
   "source": [
    "def rowSums(matrix):\n",
    "        n = matrix.shape[0]\n",
    "        sums = []\n",
    "        for i in range(n):\n",
    "            start = (i,0)\n",
    "            slope = (0,1)\n",
    "            sums.append(slopeSum(matrix, start, slope))\n",
    "        return sums\n",
    "\n",
    "df['rowSums'] = df['code_array'].apply(rowSums)"
   ]
  },
  {
   "cell_type": "code",
   "execution_count": 11,
   "id": "a2e424c9-c3da-40bd-91d6-a3199a28951c",
   "metadata": {},
   "outputs": [
    {
     "ename": "NameError",
     "evalue": "name 'get_dft_column' is not defined",
     "output_type": "error",
     "traceback": [
      "\u001b[31m---------------------------------------------------------------------------\u001b[39m",
      "\u001b[31mNameError\u001b[39m                                 Traceback (most recent call last)",
      "\u001b[36mCell\u001b[39m\u001b[36m \u001b[39m\u001b[32mIn[11]\u001b[39m\u001b[32m, line 75\u001b[39m\n\u001b[32m     72\u001b[39m     imag_features = get_dft_column(row[\u001b[33m'\u001b[39m\u001b[33mdft_imag_rolled\u001b[39m\u001b[33m'\u001b[39m])\n\u001b[32m     73\u001b[39m     \u001b[38;5;28;01mreturn\u001b[39;00m np.concatenate((real_features, imag_features))\n\u001b[32m---> \u001b[39m\u001b[32m75\u001b[39m X = np.stack(\u001b[43mdf\u001b[49m\u001b[43m.\u001b[49m\u001b[43mapply\u001b[49m\u001b[43m(\u001b[49m\u001b[43mextract_features\u001b[49m\u001b[43m,\u001b[49m\u001b[43m \u001b[49m\u001b[43maxis\u001b[49m\u001b[43m=\u001b[49m\u001b[32;43m1\u001b[39;49m\u001b[43m)\u001b[49m.values)\n\u001b[32m     77\u001b[39m \u001b[38;5;28;01mfrom\u001b[39;00m\u001b[38;5;250m \u001b[39m\u001b[34;01msklearn\u001b[39;00m\u001b[34;01m.\u001b[39;00m\u001b[34;01mpreprocessing\u001b[39;00m\u001b[38;5;250m \u001b[39m\u001b[38;5;28;01mimport\u001b[39;00m StandardScaler\n\u001b[32m     79\u001b[39m scaler = StandardScaler()\n",
      "\u001b[36mFile \u001b[39m\u001b[32mc:\\Users\\kenne\\Desktop\\PersonalCode\\QR-ML-Reconstruction\\.venv\\Lib\\site-packages\\pandas\\core\\frame.py:10374\u001b[39m, in \u001b[36mDataFrame.apply\u001b[39m\u001b[34m(self, func, axis, raw, result_type, args, by_row, engine, engine_kwargs, **kwargs)\u001b[39m\n\u001b[32m  10360\u001b[39m \u001b[38;5;28;01mfrom\u001b[39;00m\u001b[38;5;250m \u001b[39m\u001b[34;01mpandas\u001b[39;00m\u001b[34;01m.\u001b[39;00m\u001b[34;01mcore\u001b[39;00m\u001b[34;01m.\u001b[39;00m\u001b[34;01mapply\u001b[39;00m\u001b[38;5;250m \u001b[39m\u001b[38;5;28;01mimport\u001b[39;00m frame_apply\n\u001b[32m  10362\u001b[39m op = frame_apply(\n\u001b[32m  10363\u001b[39m     \u001b[38;5;28mself\u001b[39m,\n\u001b[32m  10364\u001b[39m     func=func,\n\u001b[32m   (...)\u001b[39m\u001b[32m  10372\u001b[39m     kwargs=kwargs,\n\u001b[32m  10373\u001b[39m )\n\u001b[32m> \u001b[39m\u001b[32m10374\u001b[39m \u001b[38;5;28;01mreturn\u001b[39;00m \u001b[43mop\u001b[49m\u001b[43m.\u001b[49m\u001b[43mapply\u001b[49m\u001b[43m(\u001b[49m\u001b[43m)\u001b[49m.__finalize__(\u001b[38;5;28mself\u001b[39m, method=\u001b[33m\"\u001b[39m\u001b[33mapply\u001b[39m\u001b[33m\"\u001b[39m)\n",
      "\u001b[36mFile \u001b[39m\u001b[32mc:\\Users\\kenne\\Desktop\\PersonalCode\\QR-ML-Reconstruction\\.venv\\Lib\\site-packages\\pandas\\core\\apply.py:916\u001b[39m, in \u001b[36mFrameApply.apply\u001b[39m\u001b[34m(self)\u001b[39m\n\u001b[32m    913\u001b[39m \u001b[38;5;28;01melif\u001b[39;00m \u001b[38;5;28mself\u001b[39m.raw:\n\u001b[32m    914\u001b[39m     \u001b[38;5;28;01mreturn\u001b[39;00m \u001b[38;5;28mself\u001b[39m.apply_raw(engine=\u001b[38;5;28mself\u001b[39m.engine, engine_kwargs=\u001b[38;5;28mself\u001b[39m.engine_kwargs)\n\u001b[32m--> \u001b[39m\u001b[32m916\u001b[39m \u001b[38;5;28;01mreturn\u001b[39;00m \u001b[38;5;28;43mself\u001b[39;49m\u001b[43m.\u001b[49m\u001b[43mapply_standard\u001b[49m\u001b[43m(\u001b[49m\u001b[43m)\u001b[49m\n",
      "\u001b[36mFile \u001b[39m\u001b[32mc:\\Users\\kenne\\Desktop\\PersonalCode\\QR-ML-Reconstruction\\.venv\\Lib\\site-packages\\pandas\\core\\apply.py:1063\u001b[39m, in \u001b[36mFrameApply.apply_standard\u001b[39m\u001b[34m(self)\u001b[39m\n\u001b[32m   1061\u001b[39m \u001b[38;5;28;01mdef\u001b[39;00m\u001b[38;5;250m \u001b[39m\u001b[34mapply_standard\u001b[39m(\u001b[38;5;28mself\u001b[39m):\n\u001b[32m   1062\u001b[39m     \u001b[38;5;28;01mif\u001b[39;00m \u001b[38;5;28mself\u001b[39m.engine == \u001b[33m\"\u001b[39m\u001b[33mpython\u001b[39m\u001b[33m\"\u001b[39m:\n\u001b[32m-> \u001b[39m\u001b[32m1063\u001b[39m         results, res_index = \u001b[38;5;28;43mself\u001b[39;49m\u001b[43m.\u001b[49m\u001b[43mapply_series_generator\u001b[49m\u001b[43m(\u001b[49m\u001b[43m)\u001b[49m\n\u001b[32m   1064\u001b[39m     \u001b[38;5;28;01melse\u001b[39;00m:\n\u001b[32m   1065\u001b[39m         results, res_index = \u001b[38;5;28mself\u001b[39m.apply_series_numba()\n",
      "\u001b[36mFile \u001b[39m\u001b[32mc:\\Users\\kenne\\Desktop\\PersonalCode\\QR-ML-Reconstruction\\.venv\\Lib\\site-packages\\pandas\\core\\apply.py:1081\u001b[39m, in \u001b[36mFrameApply.apply_series_generator\u001b[39m\u001b[34m(self)\u001b[39m\n\u001b[32m   1078\u001b[39m \u001b[38;5;28;01mwith\u001b[39;00m option_context(\u001b[33m\"\u001b[39m\u001b[33mmode.chained_assignment\u001b[39m\u001b[33m\"\u001b[39m, \u001b[38;5;28;01mNone\u001b[39;00m):\n\u001b[32m   1079\u001b[39m     \u001b[38;5;28;01mfor\u001b[39;00m i, v \u001b[38;5;129;01min\u001b[39;00m \u001b[38;5;28menumerate\u001b[39m(series_gen):\n\u001b[32m   1080\u001b[39m         \u001b[38;5;66;03m# ignore SettingWithCopy here in case the user mutates\u001b[39;00m\n\u001b[32m-> \u001b[39m\u001b[32m1081\u001b[39m         results[i] = \u001b[38;5;28;43mself\u001b[39;49m\u001b[43m.\u001b[49m\u001b[43mfunc\u001b[49m\u001b[43m(\u001b[49m\u001b[43mv\u001b[49m\u001b[43m,\u001b[49m\u001b[43m \u001b[49m\u001b[43m*\u001b[49m\u001b[38;5;28;43mself\u001b[39;49m\u001b[43m.\u001b[49m\u001b[43margs\u001b[49m\u001b[43m,\u001b[49m\u001b[43m \u001b[49m\u001b[43m*\u001b[49m\u001b[43m*\u001b[49m\u001b[38;5;28;43mself\u001b[39;49m\u001b[43m.\u001b[49m\u001b[43mkwargs\u001b[49m\u001b[43m)\u001b[49m\n\u001b[32m   1082\u001b[39m         \u001b[38;5;28;01mif\u001b[39;00m \u001b[38;5;28misinstance\u001b[39m(results[i], ABCSeries):\n\u001b[32m   1083\u001b[39m             \u001b[38;5;66;03m# If we have a view on v, we need to make a copy because\u001b[39;00m\n\u001b[32m   1084\u001b[39m             \u001b[38;5;66;03m#  series_generator will swap out the underlying data\u001b[39;00m\n\u001b[32m   1085\u001b[39m             results[i] = results[i].copy(deep=\u001b[38;5;28;01mFalse\u001b[39;00m)\n",
      "\u001b[36mCell\u001b[39m\u001b[36m \u001b[39m\u001b[32mIn[11]\u001b[39m\u001b[32m, line 71\u001b[39m, in \u001b[36mextract_features\u001b[39m\u001b[34m(row)\u001b[39m\n\u001b[32m     70\u001b[39m \u001b[38;5;28;01mdef\u001b[39;00m\u001b[38;5;250m \u001b[39m\u001b[34mextract_features\u001b[39m(row):\n\u001b[32m---> \u001b[39m\u001b[32m71\u001b[39m     real_features = \u001b[43mget_dft_column\u001b[49m(row[\u001b[33m'\u001b[39m\u001b[33mdft_real_rolled\u001b[39m\u001b[33m'\u001b[39m])\n\u001b[32m     72\u001b[39m     imag_features = get_dft_column(row[\u001b[33m'\u001b[39m\u001b[33mdft_imag_rolled\u001b[39m\u001b[33m'\u001b[39m])\n\u001b[32m     73\u001b[39m     \u001b[38;5;28;01mreturn\u001b[39;00m np.concatenate((real_features, imag_features))\n",
      "\u001b[31mNameError\u001b[39m: name 'get_dft_column' is not defined"
     ]
    }
   ],
   "source": [
    "import torch.optim as optim\n",
    "from torch.utils.data import DataLoader, TensorDataset\n",
    "\n",
    "\n",
    "# Define Model Class\n",
    "class Model(nn.Module):\n",
    "    def __init__(self, L):\n",
    "        super(Model, self).__init__()\n",
    "        input_size = (4*L)+2\n",
    "        output_size = 29 \n",
    "        self.fc1 = nn.Linear(input_size, output_size)\n",
    "    def forward(self, x):\n",
    "        return self.fc1(x)  # No activation for regression\n",
    "\n",
    "# Training Loop\n",
    "def train_model(model, train_loader, criterion, optimizer, epochs=10):\n",
    "    model.train()\n",
    "    for epoch in range(epochs):\n",
    "        for batch_x, batch_y in train_loader:\n",
    "            batch_x, batch_y = batch_x.to(device), batch_y.to(device)\n",
    "            optimizer.zero_grad()\n",
    "            outputs = model(batch_x)\n",
    "            loss = criterion(outputs, batch_y)\n",
    "            loss.backward()\n",
    "            optimizer.step()\n",
    "        print(f\"Epoch {epoch+1}/{epochs}, Loss: {loss.item():.4f}\")\n",
    "\n",
    "import torch.nn.functional as F\n",
    "\n",
    "def evaluate_model(model, X_test, y_test):\n",
    "    \"\"\"\n",
    "    Evaluates the trained PyTorch regression model on the test set.\n",
    "\n",
    "    Parameters:\n",
    "    - model: The trained PyTorch model.\n",
    "    - X_test: The input features for the test set (shape: (num_samples, input_size)).\n",
    "    - y_test: The true labels for the test set (shape: (num_samples, 29)).\n",
    "\n",
    "    Returns:\n",
    "    - mse: The mean squared error of the model on the test set.\n",
    "    \"\"\"\n",
    "    \n",
    "    model.eval()\n",
    "\n",
    "    # Convert test data to PyTorch tensors\n",
    "    X_test_tensor = torch.tensor(X_test, dtype=torch.float32).to(device)\n",
    "    y_test_tensor = torch.tensor(y_test, dtype=torch.float32).to(device)\n",
    "\n",
    "    with torch.no_grad():\n",
    "        predictions = model(X_test_tensor)\n",
    "\n",
    "    # Calculate Mean Squared Error\n",
    "    # mse = F.mse_loss(predictions, y_test_tensor).item()\n",
    "    #Calculate L1 norm\n",
    "    mae = F.l1_loss(predictions, y_test_tensor).item()\n",
    "    zero_one_loss = (predictions != y_test_tensor).float().mean().item()\n",
    "    \n",
    "    \n",
    "    print(f\"Test Mean Squared Error: {mse:.4f}\")\n",
    "    return mae, zero_one_loss\n",
    "\n",
    "\n",
    "# Device Setup (GPU if available)\n",
    "device = torch.device(\"cuda\" if torch.cuda.is_available() else \"cpu\")\n",
    "\n",
    "# Main Loop Over L Values\n",
    "stat = []\n",
    "for L in range(10, 0, -1):\n",
    "    # Convert features to numpy arrays\n",
    "    def extract_features(row):\n",
    "        real_features = get_dft_column(row['dft_real_rolled'])\n",
    "        imag_features = get_dft_column(row['dft_imag_rolled'])\n",
    "        return np.concatenate((real_features, imag_features))\n",
    "\n",
    "    X = np.stack(df.apply(extract_features, axis=1).values)\n",
    "\n",
    "    from sklearn.preprocessing import StandardScaler\n",
    "\n",
    "    scaler = StandardScaler()\n",
    "    X = scaler.fit_transform(X)\n",
    "    y = np.stack(df['rowSums'].values)  # Assuming `df['target']` contains labels\n",
    "\n",
    "    print(X[0])\n",
    "    print(y[0])\n",
    "\n",
    "    # Split dataset\n",
    "    X_train, X_test, y_train, y_test = train_test_split(X, y, test_size=0.2, random_state=42)\n",
    "\n",
    "    # Convert to PyTorch tensors\n",
    "    X_train_tensor = torch.tensor(X_train, dtype=torch.float32)\n",
    "    y_train_tensor = torch.tensor(y_train, dtype=torch.float32)\n",
    "    train_dataset = TensorDataset(X_train_tensor, y_train_tensor)\n",
    "    train_loader = DataLoader(train_dataset, batch_size=32, shuffle=True)\n",
    "\n",
    "    # Initialize Model, Optimizer, and Loss Function\n",
    "    model = Model(L).to(device)\n",
    "    optimizer = optim.SGD(model.parameters(), lr=0.001)\n",
    "    criterion = nn.MSELoss()  # Assuming a regression task\n",
    "\n",
    "    # Train Model\n",
    "    train_model(model, train_loader, criterion, optimizer, epochs=25)\n",
    "\n",
    "    # Evaluate Model\n",
    "    mae, zol = evaluate_model(model, X_test, y_test)\n",
    "    stat.append((L, mae, zol))\n",
    "\n",
    "    print(stat)\n"
   ]
  },
  {
   "cell_type": "code",
   "execution_count": 13,
   "id": "425bd954-ff78-461e-9414-17f84c5cd506",
   "metadata": {},
   "outputs": [
    {
     "name": "stdout",
     "output_type": "stream",
     "text": [
      "Test Mean Squared Error: 2.2837\n",
      "Epoch 5/50, Loss: 2.3464, Test Zol: 0.7304\n",
      "Test Mean Squared Error: 2.1401\n",
      "Epoch 10/50, Loss: 1.9495, Test Zol: 0.7162\n",
      "Test Mean Squared Error: 2.0769\n",
      "Epoch 15/50, Loss: 2.0809, Test Zol: 0.7038\n",
      "Test Mean Squared Error: 2.0407\n",
      "Epoch 20/50, Loss: 1.9493, Test Zol: 0.6884\n",
      "Test Mean Squared Error: 2.0201\n",
      "Epoch 25/50, Loss: 1.8807, Test Zol: 0.6739\n",
      "Test Mean Squared Error: 2.0051\n",
      "Epoch 30/50, Loss: 2.1760, Test Zol: 0.6618\n",
      "Test Mean Squared Error: 2.0038\n",
      "Epoch 35/50, Loss: 2.1177, Test Zol: 0.6563\n",
      "Test Mean Squared Error: 1.9946\n",
      "Epoch 40/50, Loss: 2.0862, Test Zol: 0.6547\n",
      "Test Mean Squared Error: 1.9903\n",
      "Epoch 45/50, Loss: 2.1182, Test Zol: 0.6546\n",
      "Test Mean Squared Error: 1.9844\n",
      "Epoch 50/50, Loss: 2.0225, Test Zol: 0.6556\n",
      "Final Accuracy Stats: [(5, 2.2836899757385254, 1.1949262619018555, 0.7304454445838928), (10, 2.1400773525238037, 1.1504539251327515, 0.7161666750907898), (15, 2.076850175857544, 1.1232019662857056, 0.7038247585296631), (20, 2.0406594276428223, 1.1011611223220825, 0.6883822083473206), (25, 2.0200705528259277, 1.0847810506820679, 0.673862099647522), (30, 2.0051255226135254, 1.0732377767562866, 0.6618103384971619), (35, 2.003774642944336, 1.0689996480941772, 0.6563448309898376), (40, 1.994642972946167, 1.0652860403060913, 0.6546896696090698), (45, 1.9902831315994263, 1.0640685558319092, 0.6545861959457397), (50, 1.9844011068344116, 1.0627715587615967, 0.6555517315864563)]\n"
     ]
    }
   ],
   "source": [
    "#fixed L\n",
    "\n",
    "import torch.optim as optim\n",
    "from torch.utils.data import DataLoader, TensorDataset\n",
    "import numpy as np\n",
    "import torch\n",
    "import torch.nn as nn\n",
    "from sklearn.model_selection import train_test_split\n",
    "\n",
    "# Define Model Class\n",
    "# Define Model Class\n",
    "# Define Model Class\n",
    "class Model(nn.Module):\n",
    "    def __init__(self, L):\n",
    "        super(Model, self).__init__()\n",
    "        input_size = 29\n",
    "        hidden_size = 2*L+1\n",
    "        output_size = 29\n",
    "        self.fc1 = nn.Linear(input_size, hidden_size)\n",
    "        self.fc2 = nn.Linear(hidden_size, output_size)\n",
    "    def forward(self, x):\n",
    "        return self.fc2(self.fc1(x))  # No activation for regression\n",
    "\n",
    "\n",
    "# Training Loop (Records Accuracy Every 5 Epochs)\n",
    "def train_model(model, train_loader, criterion, optimizer, X_test, y_test, epochs=25):\n",
    "    model.train()\n",
    "    stat = []  # Store accuracy every 5 epochs\n",
    "    \n",
    "    for epoch in range(1, epochs + 1):\n",
    "        for batch_x, batch_y in train_loader:\n",
    "            batch_x, batch_y = batch_x.to(device), batch_y.to(device)\n",
    "            optimizer.zero_grad()\n",
    "            outputs = model(batch_x)\n",
    "            loss = criterion(outputs, batch_y)\n",
    "            loss.backward()\n",
    "            optimizer.step()\n",
    "        \n",
    "        # Evaluate every 5 epochs\n",
    "        if epoch % 5 == 0:\n",
    "            mse, mae, zol = evaluate_model(model, X_test, y_test)\n",
    "            stat.append((epoch, mse, mae, zol))\n",
    "            print(f\"Epoch {epoch}/{epochs}, Loss: {loss.item():.4f}, Test Zol: {zol:.4f}\")\n",
    "\n",
    "    return stat\n",
    "\n",
    "# Evaluation Function\n",
    "def evaluate_model(model, X_test, y_test):\n",
    "    \"\"\"\n",
    "    Evaluates the trained PyTorch regression model on the test set.\n",
    "\n",
    "    Parameters:\n",
    "    - model: The trained PyTorch model.\n",
    "    - X_test: The input features for the test set (shape: (num_samples, input_size)).\n",
    "    - y_test: The true labels for the test set (shape: (num_samples, 29)).\n",
    "\n",
    "    Returns:\n",
    "    - mse: The mean squared error of the model on the test set.\n",
    "    \"\"\"\n",
    "    \n",
    "    model.eval()\n",
    "\n",
    "    # Convert test data to PyTorch tensors\n",
    "    X_test_tensor = torch.tensor(X_test, dtype=torch.float32).to(device)\n",
    "    y_test_tensor = torch.tensor(y_test, dtype=torch.float32).to(device)\n",
    "\n",
    "    with torch.no_grad():\n",
    "        predictions = model(X_test_tensor)\n",
    "\n",
    "    # Calculate Mean Squared Error\n",
    "    mse = F.mse_loss(predictions, y_test_tensor).item()\n",
    "    #Calculate L1 norm\n",
    "    mae = F.l1_loss(predictions, y_test_tensor).item()\n",
    "    zero_one_loss = (predictions.round() != y_test_tensor).float().mean().item()\n",
    "    \n",
    "    \n",
    "    print(f\"Test Mean Squared Error: {mse:.4f}\")\n",
    "    return mse, mae, zero_one_loss\n",
    "\n",
    "# Device Setup (GPU if available)\n",
    "device = torch.device(\"cuda\" if torch.cuda.is_available() else \"cpu\")\n",
    "\n",
    "# **Fixed L at 5**\n",
    "L = 5\n",
    "\n",
    "\n",
    "y = np.stack(df['rowSums'].values)  # Assuming `df['target']` contains labels\n",
    "X = y\n",
    "\n",
    "# Split dataset\n",
    "X_train, X_test, y_train, y_test = train_test_split(X, y, test_size=0.2, random_state=42)\n",
    "\n",
    "# Convert to PyTorch tensors\n",
    "X_train_tensor = torch.tensor(X_train, dtype=torch.float32)\n",
    "y_train_tensor = torch.tensor(y_train, dtype=torch.float32)\n",
    "train_dataset = TensorDataset(X_train_tensor, y_train_tensor)\n",
    "train_loader = DataLoader(train_dataset, batch_size=32, shuffle=True)\n",
    "\n",
    "# Initialize Model, Optimizer, and Loss Function\n",
    "model = Model(L).to(device)\n",
    "optimizer = optim.SGD(model.parameters(), lr=0.001)\n",
    "criterion = nn.MSELoss()  # Assuming a regression task\n",
    "\n",
    "# Train and Collect Accuracy Every 5 Epochs\n",
    "stat = train_model(model, train_loader, criterion, optimizer, X_test, y_test, epochs=50)\n",
    "\n",
    "print(\"Final Accuracy Stats:\", stat)\n"
   ]
  },
  {
   "cell_type": "code",
   "execution_count": 14,
   "id": "7ccc86bd-9f3e-47be-8793-23159d88a3b1",
   "metadata": {},
   "outputs": [
    {
     "data": {
      "text/plain": [
       "[<matplotlib.lines.Line2D at 0x1c24d914bf0>]"
      ]
     },
     "execution_count": 14,
     "metadata": {},
     "output_type": "execute_result"
    },
    {
     "data": {
      "image/png": "[encoded data removed]",
      "text/plain": [
       "<Figure size 800x600 with 1 Axes>"
      ]
     },
     "metadata": {},
     "output_type": "display_data"
    }
   ],
   "source": [
    "#l graph\n",
    "fig, ax = plt.subplots(figsize=(8, 6))\n",
    "ax.grid(True, which='both', linestyle='--', linewidth=0.5)\n",
    "ax.set_xlabel('epochs', fontsize=14)\n",
    "ax.set_ylabel('Pixel Accuracy (%)', fontsize=14)\n",
    "ax.set_title('L5')\n",
    "ax.plot([st[0] for st in stat], [st[2] for st in stat]) # plots accuracy vs L -- we can add labels later!\n",
    "ax.plot([st[0] for st in stat], [st[3] for st in stat])"
   ]
  },
  {
   "cell_type": "code",
   "execution_count": 36,
   "id": "f1da4dc5-1fab-4e7f-9e53-8c2bdef7c87f",
   "metadata": {},
   "outputs": [],
   "source": [
    "fig.savefig('Row_Sum_Predictions_25epoch.png', dpi=300)"
   ]
  },
  {
   "cell_type": "code",
   "execution_count": 35,
   "id": "85aafc53-9c8c-47e9-863e-fdb22f5cd805",
   "metadata": {},
   "outputs": [
    {
     "data": {
      "text/plain": [
       "[<matplotlib.lines.Line2D at 0x166678e82c0>]"
      ]
     },
     "execution_count": 35,
     "metadata": {},
     "output_type": "execute_result"
    },
    {
     "data": {
      "image/png": "[encoded data removed]",
      "text/plain": [
       "<Figure size 800x600 with 1 Axes>"
      ]
     },
     "metadata": {},
     "output_type": "display_data"
    }
   ],
   "source": [
    "fig, ax = plt.subplots(figsize=(8, 6))\n",
    "ax.grid(True, which='both', linestyle='--', linewidth=0.5)\n",
    "ax.set_xlabel('L', fontsize=14)\n",
    "ax.set_ylabel('MSE', fontsize=14)\n",
    "ax.set_title('Autoencoder 1 layer')\n",
    "ax.plot([st[0] for st in stat], [st[1] for st in stat]) # plots accuracy vs L -- we can add labels later!"
   ]
  },
  {
   "cell_type": "code",
   "execution_count": 13,
   "id": "cfa31a99-2970-4c5f-8249-cb9cdab2c3ab",
   "metadata": {},
   "outputs": [],
   "source": [
    "stat = [(10, 0.7218579072532699), (9, 0.7176319857312723), (8, 0.7140148632580262), (7, 0.7099592746730083), (6, 0.7058540428061831), (5, 0.7026167261196987), (4, 0.6979101268331351), (3, 0.6944241973840666), (2, 0.6906887633769322), (1, 0.5771642885453825)]"
   ]
  },
  {
   "cell_type": "code",
   "execution_count": null,
   "id": "2971232f-4a6c-429f-9cc0-b515029f506e",
   "metadata": {},
   "outputs": [],
   "source": []
  }
 ],
 "metadata": {
  "kernelspec": {
   "display_name": "Python 3 (ipykernel)",
   "language": "python",
   "name": "python3"
  },
  "language_info": {
   "codemirror_mode": {
    "name": "ipython",
    "version": 3
   },
   "file_extension": ".py",
   "mimetype": "text/x-python",
   "name": "python",
   "nbconvert_exporter": "python",
   "pygments_lexer": "ipython3",
   "version": "3.12.1"
  }
 },
 "nbformat": 4,
 "nbformat_minor": 5
}
