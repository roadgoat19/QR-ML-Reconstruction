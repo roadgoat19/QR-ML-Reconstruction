{
 "cells": [
  {
   "cell_type": "code",
   "execution_count": 27,
   "id": "da55bb62-cc1c-4356-9a1a-bfa78ec13505",
   "metadata": {},
   "outputs": [],
   "source": [
    "import numpy as np\n",
    "import pandas as pd\n",
    "import os, glob\n",
    "import matplotlib.pyplot as plt\n",
    "import tensorflow as tf\n",
    "from tensorflow.keras.layers import Dense, Input\n",
    "from tensorflow.keras.models import Sequential\n",
    "from tensorflow.keras.callbacks import ReduceLROnPlateau\n",
    "from scipy import fft"
   ]
  },
  {
   "cell_type": "code",
   "execution_count": 28,
   "id": "75e44a91-92e6-46cc-8ebe-ef9d21f150d8",
   "metadata": {},
   "outputs": [],
   "source": [
    "df = pd.read_csv('../codes.csv')"
   ]
  },
  {
   "cell_type": "code",
   "execution_count": 29,
   "id": "ae778081-b542-4219-8da5-3333c186e280",
   "metadata": {},
   "outputs": [],
   "source": [
    "# parse a colomn with a 2d array of each qr code\n",
    "df['code_array'] = df['code'].apply(lambda x: np.array([int(digit) for digit in x]).reshape(29, 29))"
   ]
  },
  {
   "cell_type": "code",
   "execution_count": 30,
   "id": "1ab42dd2-d449-4273-a782-1be95c28f67f",
   "metadata": {},
   "outputs": [],
   "source": [
    "df['code_oned'] = df['code'].apply(lambda x: np.array([int(digit) for digit in x])) # adds a code_oned column to our df which parses our entries from strs to ints"
   ]
  },
  {
   "cell_type": "code",
   "execution_count": 19,
   "id": "ff052af9-fc84-4c9a-a059-bc792771e541",
   "metadata": {},
   "outputs": [],
   "source": [
    "# initializes ff model\n",
    "def init_model(L, zero_pad = False):\n",
    "    model = tf.keras.Sequential()\n",
    "\n",
    "    if zero_pad:\n",
    "        model.add(tf.keras.layers.InputLayer(input_shape=(841,))) # shape is the size of our L box\n",
    "    else:\n",
    "    # Add the input layer (implicitly defined by the first layer)\n",
    "        model.add(tf.keras.layers.InputLayer(input_shape=((((L*2)+1)**2),))) # shape is the size of our L box\n",
    "    \n",
    "    # Add the output layer with Y units (no activation for regression, 'softmax' or 'sigmoid' for classification)\n",
    "    model.add(tf.keras.layers.Dense(841))\n",
    "    \n",
    "    optimizer = tf.keras.optimizers.SGD(learning_rate=0.001) # should likely change/test optimizer to ADAM\n",
    "    \n",
    "    model.compile(optimizer=optimizer, loss='mse')  # or 'categorical_crossentropy' for classification\n",
    "    return model"
   ]
  },
  {
   "cell_type": "code",
   "execution_count": 34,
   "id": "4cd05ca9-d750-418f-b378-9c5c9a527239",
   "metadata": {},
   "outputs": [],
   "source": [
    "# Function to split DFT into real and imaginary parts and reshape them\n",
    "def split_dft(dft_str):\n",
    "    complex_numbers = [complex(c.strip()) for c in dft_str.strip('()').split(')(')]\n",
    "    real_part = np.array([c.real for c in complex_numbers])\n",
    "    imag_part = np.array([c.imag for c in complex_numbers])\n",
    "    return real_part, imag_part\n",
    "\n",
    "# Apply the function to each row\n",
    "df['dft_real'], df['dft_imag'] = zip(*df['dft'].apply(split_dft))"
   ]
  },
  {
   "cell_type": "code",
   "execution_count": 35,
   "id": "67957b2a-0df0-4c16-b236-b7cd7ceac0d4",
   "metadata": {},
   "outputs": [],
   "source": [
    "\n",
    "df['dft_combined'] = df['dft_real'] + df['dft_imag'] * 1j\n",
    "\n",
    "df['ift'] = df['dft_combined'].apply((lambda x: fft.ifft2(x.reshape(29,29)).real))\n",
    "\n",
    "\n",
    "correct = [guess == correct for guess, correct in zip(df['ift'][0].flatten(), df['code_oned'][0].flatten())]\n",
    "                                     "
   ]
  },
  {
   "cell_type": "code",
   "execution_count": 42,
   "id": "946abf14-8689-400f-bc42-9e381cac296b",
   "metadata": {},
   "outputs": [],
   "source": [
    "arrays = np.stack(df['code_array'].values)\n",
    "average_array = np.mean(arrays, axis=0)\n",
    "\n",
    "fixedIndx = []\n",
    "for i in range(29):\n",
    "    for j in range(29):\n",
    "        if average_array[i][j] == 1 or average_array[i][j] == 0:\n",
    "            fixedIndx.append((i, j))"
   ]
  },
  {
   "cell_type": "code",
   "execution_count": 36,
   "id": "172fcef6-30f2-435f-b6de-74d15171da09",
   "metadata": {},
   "outputs": [],
   "source": [
    "#take in full size 1d array,reshape it to original 29 by 29, and shift it so center is in right place\n",
    "# df['dft_rolled'] = df['dft'].apply(lambda x: np.roll(x.reshape(29,29), shift=(14, 14), axis=(0, 1)))\n",
    "df['dft_imag_rolled'] = df['dft_imag'].apply(lambda x: np.roll(x.reshape(29,29), shift=(14, 14), axis=(0, 1)))\n",
    "df['dft_real_rolled'] = df['dft_real'].apply(lambda x: np.roll(x.reshape(29,29), shift=(14, 14), axis=(0, 1)))"
   ]
  },
  {
   "cell_type": "code",
   "execution_count": 37,
   "id": "bcbf5d7d",
   "metadata": {},
   "outputs": [],
   "source": [
    "y = np.stack(df['code_oned'].values)  # Shape: (num_samples, 29,29)"
   ]
  },
  {
   "cell_type": "code",
   "execution_count": 38,
   "id": "5b896cfe-f32d-4616-83b8-74721e8fd1b4",
   "metadata": {},
   "outputs": [],
   "source": [
    "# function to take in array and get L matrix\n",
    "\n",
    "def get_centered_subarray(array, L, zero_pad=False):\n",
    "    n = array.shape[0]\n",
    "    center = n // 2\n",
    "    start = center - L\n",
    "    end = center + 1 + L # start count after our center square\n",
    "    # Adjust indices to stay within array bounds\n",
    "    start = max(0, start)\n",
    "    end = min(n, end)\n",
    "    array = array[start:end, start:end]\n",
    "    if zero_pad:\n",
    "        var_index = 14 - L\n",
    "        array = np.pad(array, var_index, 'constant')\n",
    "    return array"
   ]
  },
  {
   "cell_type": "code",
   "execution_count": 39,
   "id": "e734fa54-b365-4090-85e4-9e0a9f4caab6",
   "metadata": {},
   "outputs": [],
   "source": [
    "# Define a function to combine real and imaginary parts\n",
    "def combine_real_imag(row):\n",
    "    # Stack along the last axis to create a new dimension for channels\n",
    "    combined = np.stack((row['L_real'], row['L_imag']), axis=-1)\n",
    "    return combined  # Shape: (L, L, 2)"
   ]
  },
  {
   "cell_type": "code",
   "execution_count": 40,
   "id": "13bb79b3-3cea-4f36-9b5c-d540c74b44b7",
   "metadata": {},
   "outputs": [],
   "source": [
    "def evaluate_model(model, X, y, num_samples=999):\n",
    "    #Takes in trained model, input data, correct output data, and number of samples to compute for based on validation set\n",
    "    #outputs the accuracy of the predicted pixels\n",
    "    # Ensure num_samples does not exceed the available samples\n",
    "    num_samples = min(num_samples, X.shape[0])\n",
    "    \n",
    "    # Predict the QR codes\n",
    "    y_pred = model.predict(X[:num_samples])\n",
    "    \n",
    "    # Check if the shapes match\n",
    "    if y_pred.shape != y[:num_samples].shape:\n",
    "        # If y_pred is (num_samples, 29, 29, 1) and y is (num_samples, 29, 29, 1), it's okay\n",
    "        # Otherwise, attempt to reshape if possible\n",
    "        try:\n",
    "            y_pred = y_pred.reshape(y[:num_samples].shape)\n",
    "        except:\n",
    "            raise ValueError(f\"Shape mismatch: y_pred shape {y_pred.shape} vs y shape {y[:num_samples].shape}\")\n",
    "    \n",
    "    # Apply a threshold to convert predictions to binary\n",
    "    y_pred_binary = (y_pred > 0.5).astype(int)\n",
    "    \n",
    "    # Calculate pixel-wise accuracy\n",
    "    correct_pixels = (y_pred_binary == y[:num_samples]).astype(int)\n",
    "    pixel_accuracy = correct_pixels.mean()\n",
    "    \n",
    "    return pixel_accuracy"
   ]
  },
  {
   "cell_type": "code",
   "execution_count": 41,
   "id": "fe16060e-03f8-42cb-9733-53b0dc51a2fb",
   "metadata": {},
   "outputs": [],
   "source": [
    "def evaluate_fixed(model, X, y, num_samples=999):\n",
    "    #Takes in trained model, input data, correct output data, and number of samples to compute for based on validation set\n",
    "    #outputs the accuracy of the predicted pixels\n",
    "    # Ensure num_samples does not exceed the available samples\n",
    "    num_samples = min(num_samples, X.shape[0])\n",
    "    \n",
    "    # Predict the QR codes\n",
    "    y_pred = model.predict(X[:num_samples])\n",
    "    \n",
    "    # Check if the shapes match\n",
    "    if y_pred.shape != y[:num_samples].shape:\n",
    "        # If y_pred is (num_samples, 29, 29, 1) and y is (num_samples, 29, 29, 1), it's okay\n",
    "        # Otherwise, attempt to reshape if possible\n",
    "        try:\n",
    "            y_pred = y_pred.reshape(y[:num_samples].shape)\n",
    "        except:\n",
    "            raise ValueError(f\"Shape mismatch: y_pred shape {y_pred.shape} vs y shape {y[:num_samples].shape}\")\n",
    "    \n",
    "    # Apply a threshold to convert predictions to binary\n",
    "    y_pred_binary = (y_pred > 0.5).astype(int)\n",
    "    \n",
    "    # Calculate pixel-wise accuracy\n",
    "    correct_pixels = 0\n",
    "    for pred, correct in zip(y_pred_binary, y[:num_samples].astype(int)):\n",
    "        for i,j in fixedIndx:\n",
    "            if pred[i][j] == correct[i][j]:\n",
    "                correct_pixels += 1\n",
    "    pixel_accuracy = correct_pixels / (len(fixedIndx) * num_samples)\n",
    "    return pixel_accuracy"
   ]
  },
  {
   "cell_type": "code",
   "execution_count": null,
   "id": "f6cb4925-8c10-434d-8e63-ce02ce7f41ac",
   "metadata": {},
   "outputs": [],
   "source": [
    "#loop to train model for different L sizes. use this loop for convo.\n",
    "\n",
    "#stat stores L size with accuracy for plotting after\n",
    "stat = []\n",
    "for L in [10, 9, 8, 7, 6, 5]:\n",
    "    #get L matrices flattened\n",
    "    \n",
    "    # CLEAN THIS UP LOL\n",
    "    df['L_imag'] = df['dft_imag_rolled'].apply(lambda x: get_centered_subarray(x, L, zero_pad=True))\n",
    "    df['L_real']= df['dft_real_rolled'].apply(lambda x: get_centered_subarray(x, L, zero_pad=True))\n",
    "\n",
    "    # Apply the function to each row to create the 'L_combined' column\n",
    "    df['L'] = df.apply(combine_real_imag, axis=1)\n",
    "    # print(df['L'][0])\n",
    "    df['L_complex'] = df['L'].apply(lambda x: np.array([real + comp * 1j for real, comp in x.reshape(841,2)]).reshape(29,29))\n",
    "    df['L_rolled'] = df['L_complex'].apply(lambda x: np.roll(x.reshape(29,29), shift=(-14, -14), axis=(0, 1)))\n",
    "    df['ift'] = df['L_rolled'].apply((lambda x: fft.ifft2(x.reshape(29,29)).real.flatten()))\n",
    "    # diagnostic print\n",
    "    # print(df['L'][0].shape)\n",
    "    #concatenate imag and real 1d arrays\n",
    "    model = init_model(L, zero_pad=True)\n",
    "    # Features (X) - DFT components\n",
    "    X = np.stack(df['ift'].values)  \n",
    "    # print(X.shape)\n",
    "    # Split the data into training and testing sets\n",
    "    #y sets should be initialized outside loop since they don't change\n",
    "    from sklearn.model_selection import train_test_split\n",
    "    X_train, X_test, y_train, y_test = train_test_split(X, y, test_size=0.2, random_state=42)\n",
    "\n",
    "    #Fit the model\n",
    "    model.fit(X_train, y_train, epochs=100, validation_data=[X_test[1000:], y_test[1000:]])\n",
    "\n",
    "    #eval model\n",
    "    accuracy = evaluate_model(model, X_test[:999], y_test[:999], num_samples=1)\n",
    "    stat.append((L, accuracy))\n",
    "\n",
    "    print(stat)"
   ]
  },
  {
   "cell_type": "code",
   "execution_count": null,
   "id": "192722ca-8f4a-4148-a2cc-bdab5c07a304",
   "metadata": {},
   "outputs": [
    {
     "data": {
      "text/plain": [
       "-0.8838603005420527"
      ]
     },
     "execution_count": 45,
     "metadata": {},
     "output_type": "execute_result"
    }
   ],
   "source": [
    "min(np.stack(df['ift'].values).flatten())"
   ]
  },
  {
   "cell_type": "code",
   "execution_count": null,
   "id": "36dc24d8-4f1f-4642-b5c1-564294819b2a",
   "metadata": {},
   "outputs": [],
   "source": [
    "fig, ax = plt.subplots(figsize=(8, 6))\n",
    "ax.grid(True, which='both', linestyle='--', linewidth=0.5)\n",
    "ax.set_xlabel('L value', fontsize=14)\n",
    "ax.set_ylabel('Pixel Accuracy (%)', fontsize=14)\n",
    "ax.plot([st[0] for st in stat], [st[1] for st in stat]) # plots accuracy vs L  "
   ]
  },
  {
   "cell_type": "code",
   "execution_count": null,
   "id": "61767818-a8ee-48bb-93d4-986b12c3d993",
   "metadata": {},
   "outputs": [],
   "source": [
    "fig.savefig('50_epoch_1convo_8filters_adam_LR001.png', dpi=300)"
   ]
  },
  {
   "cell_type": "code",
   "execution_count": 26,
   "id": "b0ce5759-f375-4933-bbf2-4bfc5dd13423",
   "metadata": {},
   "outputs": [
    {
     "data": {
      "text/plain": [
       "[(10, 0.6789536266349584),\n",
       " (9, 0.6837098692033293),\n",
       " (8, 0.7086801426872771),\n",
       " (7, 0.7074910820451843),\n",
       " (6, 0.6872770511296076),\n",
       " (5, 0.6825208085612366)]"
      ]
     },
     "execution_count": 26,
     "metadata": {},
     "output_type": "execute_result"
    }
   ],
   "source": [
    "stat"
   ]
  },
  {
   "cell_type": "code",
   "execution_count": 46,
   "id": "42906a39-4704-498f-8fa0-f702447c79c2",
   "metadata": {},
   "outputs": [
    {
     "name": "stdout",
     "output_type": "stream",
     "text": [
      "Epoch 1/25\n",
      "250/250 [==============================] - 4s 13ms/step - loss: 0.8123 - val_loss: 0.7327\n",
      "Epoch 2/25\n",
      "250/250 [==============================] - 2s 8ms/step - loss: 0.6683 - val_loss: 0.6090\n",
      "Epoch 3/25\n",
      "250/250 [==============================] - 2s 8ms/step - loss: 0.5611 - val_loss: 0.5170\n",
      "Epoch 4/25\n",
      "250/250 [==============================] - 2s 7ms/step - loss: 0.4814 - val_loss: 0.4486\n",
      "Epoch 5/25\n",
      "250/250 [==============================] - 2s 7ms/step - loss: 0.4221 - val_loss: 0.3976\n",
      "Epoch 6/25\n",
      "250/250 [==============================] - 2s 7ms/step - loss: 0.3779 - val_loss: 0.3597\n",
      "Epoch 7/25\n",
      "250/250 [==============================] - 2s 8ms/step - loss: 0.3450 - val_loss: 0.3314\n",
      "Epoch 8/25\n",
      "250/250 [==============================] - 2s 6ms/step - loss: 0.3205 - val_loss: 0.3104\n",
      "Epoch 9/25\n",
      "250/250 [==============================] - 2s 6ms/step - loss: 0.3023 - val_loss: 0.2947\n",
      "Epoch 10/25\n",
      "250/250 [==============================] - 2s 7ms/step - loss: 0.2886 - val_loss: 0.2830\n",
      "Epoch 11/25\n",
      "250/250 [==============================] - 2s 7ms/step - loss: 0.2785 - val_loss: 0.2742\n",
      "Epoch 12/25\n",
      "250/250 [==============================] - 2s 8ms/step - loss: 0.2708 - val_loss: 0.2676\n",
      "Epoch 13/25\n",
      "250/250 [==============================] - 2s 7ms/step - loss: 0.2651 - val_loss: 0.2627\n",
      "Epoch 14/25\n",
      "250/250 [==============================] - 2s 7ms/step - loss: 0.2608 - val_loss: 0.2590\n",
      "Epoch 15/25\n",
      "250/250 [==============================] - 2s 7ms/step - loss: 0.2576 - val_loss: 0.2562\n",
      "Epoch 16/25\n",
      "250/250 [==============================] - 2s 6ms/step - loss: 0.2551 - val_loss: 0.2540\n",
      "Epoch 17/25\n",
      "250/250 [==============================] - 2s 8ms/step - loss: 0.2532 - val_loss: 0.2524\n",
      "Epoch 18/25\n",
      "250/250 [==============================] - 2s 7ms/step - loss: 0.2518 - val_loss: 0.2511\n",
      "Epoch 19/25\n",
      "250/250 [==============================] - 2s 7ms/step - loss: 0.2507 - val_loss: 0.2501\n",
      "Epoch 20/25\n",
      "250/250 [==============================] - 2s 7ms/step - loss: 0.2498 - val_loss: 0.2494\n",
      "Epoch 21/25\n",
      "250/250 [==============================] - 2s 7ms/step - loss: 0.2491 - val_loss: 0.2487\n",
      "Epoch 22/25\n",
      "250/250 [==============================] - 2s 7ms/step - loss: 0.2485 - val_loss: 0.2482\n",
      "Epoch 23/25\n",
      "250/250 [==============================] - 2s 8ms/step - loss: 0.2481 - val_loss: 0.2478\n",
      "Epoch 24/25\n",
      "250/250 [==============================] - 2s 7ms/step - loss: 0.2477 - val_loss: 0.2474\n",
      "Epoch 25/25\n",
      "250/250 [==============================] - 2s 7ms/step - loss: 0.2473 - val_loss: 0.2471\n",
      "32/32 [==============================] - 0s 9ms/step\n",
      "32/32 [==============================] - 0s 5ms/step\n"
     ]
    },
    {
     "ename": "IndexError",
     "evalue": "invalid index to scalar variable.",
     "output_type": "error",
     "traceback": [
      "\u001b[1;31m---------------------------------------------------------------------------\u001b[0m",
      "\u001b[1;31mIndexError\u001b[0m                                Traceback (most recent call last)",
      "Cell \u001b[1;32mIn[46], line 40\u001b[0m\n\u001b[0;32m     38\u001b[0m \u001b[38;5;66;03m# Evaluate the model and record accuracy\u001b[39;00m\n\u001b[0;32m     39\u001b[0m accuracy \u001b[38;5;241m=\u001b[39m evaluate_model(model, X_test[:\u001b[38;5;241m999\u001b[39m], y_test[:\u001b[38;5;241m999\u001b[39m])\n\u001b[1;32m---> 40\u001b[0m fixed_accuracy \u001b[38;5;241m=\u001b[39m \u001b[43mevaluate_fixed\u001b[49m\u001b[43m(\u001b[49m\u001b[43mmodel\u001b[49m\u001b[43m,\u001b[49m\u001b[43m \u001b[49m\u001b[43mX_test\u001b[49m\u001b[43m[\u001b[49m\u001b[43m:\u001b[49m\u001b[38;5;241;43m999\u001b[39;49m\u001b[43m]\u001b[49m\u001b[43m,\u001b[49m\u001b[43m \u001b[49m\u001b[43my_test\u001b[49m\u001b[43m[\u001b[49m\u001b[43m:\u001b[49m\u001b[38;5;241;43m999\u001b[39;49m\u001b[43m]\u001b[49m\u001b[43m)\u001b[49m\n\u001b[0;32m     42\u001b[0m stat\u001b[38;5;241m.\u001b[39mappend((epochs, accuracy, fixed_accuracy))\n\u001b[0;32m     44\u001b[0m \u001b[38;5;66;03m# Print or log the current status\u001b[39;00m\n",
      "Cell \u001b[1;32mIn[41], line 26\u001b[0m, in \u001b[0;36mevaluate_fixed\u001b[1;34m(model, X, y, num_samples)\u001b[0m\n\u001b[0;32m     24\u001b[0m \u001b[38;5;28;01mfor\u001b[39;00m pred, correct \u001b[38;5;129;01min\u001b[39;00m \u001b[38;5;28mzip\u001b[39m(y_pred_binary, y[:num_samples]\u001b[38;5;241m.\u001b[39mastype(\u001b[38;5;28mint\u001b[39m)):\n\u001b[0;32m     25\u001b[0m     \u001b[38;5;28;01mfor\u001b[39;00m i,j \u001b[38;5;129;01min\u001b[39;00m fixedIndx:\n\u001b[1;32m---> 26\u001b[0m         \u001b[38;5;28;01mif\u001b[39;00m \u001b[43mpred\u001b[49m\u001b[43m[\u001b[49m\u001b[43mi\u001b[49m\u001b[43m]\u001b[49m\u001b[43m[\u001b[49m\u001b[43mj\u001b[49m\u001b[43m]\u001b[49m \u001b[38;5;241m==\u001b[39m correct[i][j]:\n\u001b[0;32m     27\u001b[0m             correct_pixels \u001b[38;5;241m+\u001b[39m\u001b[38;5;241m=\u001b[39m \u001b[38;5;241m1\u001b[39m\n\u001b[0;32m     28\u001b[0m pixel_accuracy \u001b[38;5;241m=\u001b[39m correct_pixels \u001b[38;5;241m/\u001b[39m (\u001b[38;5;28mlen\u001b[39m(fixedIndx) \u001b[38;5;241m*\u001b[39m num_samples)\n",
      "\u001b[1;31mIndexError\u001b[0m: invalid index to scalar variable."
     ]
    }
   ],
   "source": [
    "#Epoch loop\n",
    "\n",
    "# Set L to 10 and initialize stat to store accuracy at specified epoch intervals\n",
    "L = 10\n",
    "stat = []\n",
    "\n",
    "df['L_imag'] = df['dft_imag_rolled'].apply(lambda x: get_centered_subarray(x, L, zero_pad=True))\n",
    "df['L_real']= df['dft_real_rolled'].apply(lambda x: get_centered_subarray(x, L, zero_pad=True))\n",
    "\n",
    "# Apply the function to each row to create the 'L_combined' column\n",
    "df['L'] = df.apply(combine_real_imag, axis=1)\n",
    "# print(df['L'][0])\n",
    "df['L_complex'] = df['L'].apply(lambda x: np.array([real + comp * 1j for real, comp in x.reshape(841,2)]).reshape(29,29))\n",
    "df['L_rolled'] = df['L_complex'].apply(lambda x: np.roll(x.reshape(29,29), shift=(-14, -14), axis=(0, 1)))\n",
    "df['ift'] = df['L_rolled'].apply((lambda x: fft.ifft2(x.reshape(29,29)).real.flatten(v m, ,njjjjjjjjjjjjjjjjjjjjjjjjjjjjjjjjjjjjjjjjjjjjjjbbbbbbbbbbbbbbbbbbbbbbbbbbbbbbbbbbbbbbbbbbbbbbbbbbbbbbbbbbbbbbbbbbbbbbbbbbbbbbbbbbbbbbbbbbbbbbbbbbbbbbbbbbbbbbbbbbbbbbbbbbbbbbbbbbbbbbbbbbbbbbbbbknm                    bbbbbbbbbbbbbbbbbbbbbbbbbbbbbbbbbbbbbbbbbbbbbbbbbbbbbbbbbbbbbbbbbbbbbbbbbbbbbbbbbbbbbbbbbbbbbbbbbbbbbbbbbbbbbbbbbbbbbbbbbbbbbbbbbbbbbbbbbbbbbbbbbbbbbbbbbbbbbbbbbbbbbbbbbbbbbbbbbbbbbbbbbbbbbbbbbbbbbbbbbbbbbbbbbbbbbbbbbbbbbbbbbbbbbbbbbbbbbbbbbbbbbbbbbbbbbbbbbbbbbbbbbbbbbbbbbbbbbbbbbbbbbbbbbbbbbbbbbbbbbbbbbbbbbbbbbbbbbbbbbbbbbbvvvvvvvvvvvvvjkh\n",
    "L>'# Initialize the convolutional model\n",
    "model = init_model(L, zero_pad=True)\n",
    "\n",
    "# Features (X) - DFT components\n",
    "X = np.stack(df['ift'].values)\n",
    "# Assuming y is already initialized outside the loop\n",
    "from sklearn.model_selection import train_test_split\n",
    "X_train, X_test, y_train, y_test = train_test_split(X, y, test_size=0.2, random_state=42)\n",
    "\n",
    "# Specify epoch intervals to record accuracy\n",
    "epoch_intervals = [25, 50, 75, 100, 125, 150, 175,200]\n",
    "current_epoch = 0\n",
    "\n",
    "# Training in intervals and recording accuracy\n",
    "for epochs in epoch_intervals:\n",
    "    # Train the model from the current epoch to the next interval\n",
    "    \n",
    "\n",
    "    model.fit(X_train, y_train, initial_epoch=current_epoch, epochs=epochs, validation_data=(X_test[1000:], y_test[1000:]))\n",
    "    current_epoch = epochs  # Update the current epoch to the last trained epoch\n",
    "\n",
    "    # Evaluate the model and record accuracy\n",
    "    accuracy = evaluate_model(model, X_test[:999], y_test[:999])\n",
    "    fixed_accuracy = evaluate_fixed(model, X_test[:999], y_test[:999])\n",
    "    \n",
    "    stat.append((epochs, accuracy, fixed_accuracy))\n",
    "\n",
    "    # Print or log the current status\n",
    "    print(f\"Epochs: {epochs}, Accuracy: {accuracy}, Fixed Accuracy: {fixed_accuracy}\")\n",
    "\n",
    "print(\"Final stat:\", stat)\n"
   ]
  },
  {
   "cell_type": "code",
   "execution_count": null,
   "id": "49a6f1c3-7d57-4cec-8a01-c6a10640e91d",
   "metadata": {},
   "outputs": [
    {
     "data": {
      "text/plain": [
       "[(50, 0.8680142687277052),\n",
       " (75, 0.8739595719381689),\n",
       " (100, 0.8810939357907254),\n",
       " (125, 0.8775267538644471),\n",
       " (150, 0.8799048751486326),\n",
       " (175, 0.8799048751486326),\n",
       " (200, 0.8787158145065398)]"
      ]
     },
     "execution_count": 23,
     "metadata": {},
     "output_type": "execute_result"
    }
   ],
   "source": [
    "stat"
   ]
  },
  {
   "cell_type": "code",
   "execution_count": null,
   "id": "a43140b0-0a36-491e-b5a0-47181db7416d",
   "metadata": {},
   "outputs": [
    {
     "data": {
      "text/plain": [
       "[<matplotlib.lines.Line2D at 0x209e1c29910>]"
      ]
     },
     "execution_count": 31,
     "metadata": {},
     "output_type": "execute_result"
    },
    {
     "data": {
      "image/png": "[encoded data removed]",
      "text/plain": [
       "<Figure size 800x600 with 1 Axes>"
      ]
     },
     "metadata": {},
     "output_type": "display_data"
    }
   ],
   "source": [
    "fig, ax = plt.subplots(figsize=(8, 6))\n",
    "ax.grid(True, which='both', linestyle='--', linewidth=0.5)\n",
    "ax.set_xlabel('Epochs', fontsize=14)\n",
    "ax.set_ylabel('Pixel Accuracy (%)', fontsize=14)\n",
    "ax.plot([st[0] for st in stat], [st[1] for st in stat]) # plots accuracy vs L  "
   ]
  },
  {
   "cell_type": "code",
   "execution_count": null,
   "id": "6ce3a1b7-a5e8-4eab-b408-5d03d5589663",
   "metadata": {},
   "outputs": [],
   "source": [
    "fig.savefig('L10_1convo_8filters_adam_LRScheduler.png', dpi=300)"
   ]
  },
  {
   "cell_type": "code",
   "execution_count": null,
   "id": "0fcd13d2-16ab-4e1c-9db6-f4db2fae11e2",
   "metadata": {},
   "outputs": [],
   "source": []
  }
 ],
 "metadata": {
  "kernelspec": {
   "display_name": "Python (myenv)",
   "language": "python",
   "name": "myenv"
  },
  "language_info": {
   "codemirror_mode": {
    "name": "ipython",
    "version": 3
   },
   "file_extension": ".py",
   "mimetype": "text/x-python",
   "name": "python",
   "nbconvert_exporter": "python",
   "pygments_lexer": "ipython3",
   "version": "3.9.19"
  }
 },
 "nbformat": 4,
 "nbformat_minor": 5
}
