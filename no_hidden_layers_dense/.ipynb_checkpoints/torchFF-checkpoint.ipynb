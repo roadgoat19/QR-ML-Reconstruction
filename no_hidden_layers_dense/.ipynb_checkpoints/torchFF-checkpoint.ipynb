{
 "cells": [
  {
   "cell_type": "code",
   "execution_count": 26,
   "id": "9730256b-943b-4b31-ab45-fa9124a4872b",
   "metadata": {},
   "outputs": [],
   "source": [
    "import numpy as np\n",
    "import pandas as pd\n",
    "import os, glob\n",
    "import torch\n",
    "import torch.nn as nn\n",
    "import torch.nn.functional as F\n",
    "import matplotlib.pyplot as plt\n",
    "from scipy import fft\n",
    "from sklearn.model_selection import train_test_split"
   ]
  },
  {
   "cell_type": "code",
   "execution_count": 5,
   "id": "027026bf-802f-4b99-8cbe-f57d0eee7c72",
   "metadata": {},
   "outputs": [
    {
     "name": "stdout",
     "output_type": "stream",
     "text": [
      "Using device: cuda\n",
      "2.6.0+cu118\n"
     ]
    }
   ],
   "source": [
    "device = torch.device(\n",
    "    \"cuda\" if torch.cuda.is_available() else \"cpu\")\n",
    "print(f'Using device: {device}')\n",
    "print(torch.__version__)"
   ]
  },
  {
   "cell_type": "code",
   "execution_count": 6,
   "id": "1aa1d745-50f8-47ac-86d1-fa860d2dbc32",
   "metadata": {},
   "outputs": [],
   "source": [
    "df = pd.read_csv('../codes.csv') # reads in codes csv as a mutable df :-) contains message, ecl, code, dft cols"
   ]
  },
  {
   "cell_type": "code",
   "execution_count": 7,
   "id": "9b8e9152-438f-43f3-8598-7f7f94a9e714",
   "metadata": {},
   "outputs": [],
   "source": [
    "# parse a colomn with a 2d array of each qr code\n",
    "df['code_array'] = df['code'].apply(lambda x: np.array([int(digit) for digit in x]).reshape(29, 29))\n",
    "df['code_oned'] = df['code'].apply(lambda x: np.array([int(digit) for digit in x])) # adds a code_oned column to our df which parses our entries from strs to ints"
   ]
  },
  {
   "cell_type": "code",
   "execution_count": 8,
   "id": "b6465f79-0683-4be2-a3d2-90ee77944c5b",
   "metadata": {},
   "outputs": [],
   "source": [
    "arrays = np.stack(df['code_array'].values)\n",
    "average_array = np.mean(arrays, axis=0)\n",
    "\n",
    "fixedIndx = []\n",
    "for i in range(29):\n",
    "    for j in range(29):\n",
    "        if average_array[i][j] == 1:\n",
    "            fixedIndx.append((i, j))\n",
    "\n",
    "fixedIndxAll = []\n",
    "for i in range(29):\n",
    "    for j in range(29):\n",
    "        if average_array[i][j] == 1 or average_array[i][j] == 0:\n",
    "            fixedIndxAll.append((i, j))\n",
    "\n",
    "\n",
    "\n"
   ]
  },
  {
   "cell_type": "code",
   "execution_count": null,
   "id": "e69c7077-031c-4eda-9589-c0f65af7eea0",
   "metadata": {},
   "outputs": [],
   "source": [
    "nonFixed = []\n",
    "for i in range(29):\n",
    "    for j in range(29):\n",
    "        if (i,j) not in fixedIndxAll:\n",
    "            nonFixed.append((i,j))\n",
    "nonFixed"
   ]
  },
  {
   "cell_type": "code",
   "execution_count": 14,
   "id": "89919c27-0053-4f23-a8ff-6222f7b6674b",
   "metadata": {},
   "outputs": [
    {
     "data": {
      "text/plain": [
       "<matplotlib.image.AxesImage at 0x2047989b6e0>"
      ]
     },
     "execution_count": 14,
     "metadata": {},
     "output_type": "execute_result"
    },
    {
     "data": {
      "image/png": "[encoded data removed]",
      "text/plain": [
       "<Figure size 640x480 with 1 Axes>"
      ]
     },
     "metadata": {},
     "output_type": "display_data"
    }
   ],
   "source": [
    "fixedQR = np.zeros((29,29))\n",
    "for i,j in fixedIndx:\n",
    "    fixedQR[i][j] = 1\n",
    "fixedQR\n",
    "\n",
    "plt.imshow(fixedQR)"
   ]
  },
  {
   "cell_type": "code",
   "execution_count": 15,
   "id": "0208db52-62b3-4f3a-82d4-b180863dbe07",
   "metadata": {},
   "outputs": [],
   "source": [
    "# grabs a centered subarray of a given array with dimensions (2L+1) by (2L+1)\n",
    "def get_centered_subarray(array, L):\n",
    "    # old way -- \n",
    "    # L = (L * 2) + 1\n",
    "    # start = center - (L // 2)\n",
    "    # end = center + (L + 1) // 2\n",
    "    n = array.shape[0]\n",
    "    center = n // 2\n",
    "    start = center - L\n",
    "    end = center + 1 + L # start count after our center square\n",
    "    # Adjust indices to stay within array bounds\n",
    "    start = max(0, start)\n",
    "    end = min(n, end)\n",
    "    return array[start:end, start:end]"
   ]
  },
  {
   "cell_type": "code",
   "execution_count": 16,
   "id": "9d7a3d83-675f-4c1a-b66f-a7cbab51e23b",
   "metadata": {},
   "outputs": [],
   "source": [
    "# function to split DFT into real and imaginary parts and reshape them\n",
    "def split_dft(dft_str):\n",
    "    complex_numbers = [complex(c.strip()) for c in dft_str.strip('()').split(')(')]\n",
    "    real_part = np.array([c.real for c in complex_numbers])\n",
    "    imag_part = np.array([c.imag for c in complex_numbers])\n",
    "    return real_part, imag_part\n",
    "\n",
    "# apply the function to each row\n",
    "df['dft_real'], df['dft_imag'] = zip(*df['dft'].apply(split_dft))\n"
   ]
  },
  {
   "cell_type": "code",
   "execution_count": 17,
   "id": "4b410b0d-0ec6-40ef-947c-e802caf37cdc",
   "metadata": {},
   "outputs": [],
   "source": [
    "# function to take dft string into complex tuple stored as (a, ib)\n",
    "def combine_dft_full(dft_str):\n",
    "    complex_numbers = [complex(c.strip()) for c in dft_str.strip('()').split(')(')]\n",
    "    real_part = np.array([c.real for c in complex_numbers])\n",
    "    # real_part = zero_pad_right(0.5, real_part)\n",
    "    imag_part = np.array([c.imag for c in complex_numbers])\n",
    "    # imag_part = zero_pad_right(0.5, imag_part)\n",
    "    return np.append(real_part, imag_part)\n",
    "\n",
    "df['dft_stacked'] = df['dft'].apply(combine_dft_full)"
   ]
  },
  {
   "cell_type": "code",
   "execution_count": 21,
   "id": "2b4efa18-9a50-4789-a5eb-38c087496726",
   "metadata": {},
   "outputs": [],
   "source": [
    "fixed_fft = fft.fft2(fixedQR)"
   ]
  },
  {
   "cell_type": "code",
   "execution_count": 22,
   "id": "b8703ac2-fc06-440f-9011-62c95e329370",
   "metadata": {},
   "outputs": [],
   "source": [
    "flat = fixed_fft.copy().flatten() # flatten fixed \n",
    "\n",
    "# subtracts flattened fixed qr fft from flattened qr fft\n",
    "def adjust(stacked):\n",
    "    copy = stacked.copy()\n",
    "    for i in range(841): \n",
    "        copy[i] -= flat[i].real\n",
    "        copy[i+841] -= flat[i].imag # imaginary numbers shifted by 841 (total len)\n",
    "    return copy\n",
    "\n",
    "df['adjusted'] = df['dft_stacked'].apply(adjust)"
   ]
  },
  {
   "cell_type": "code",
   "execution_count": 23,
   "id": "d4251b97-2d6b-4d29-b691-1d8f232dbd12",
   "metadata": {},
   "outputs": [],
   "source": [
    "def adjust_y(flat):\n",
    "    new = np.array([flat[row * 29 + column] for row, column in nonFixed])\n",
    "    return new\n",
    "\n",
    "df['y_adjusted'] = df['code_oned'].apply(adjust_y)\n"
   ]
  },
  {
   "cell_type": "code",
   "execution_count": 27,
   "id": "40f2d2c2-0b19-4bd0-9fab-84c519d53cb3",
   "metadata": {},
   "outputs": [],
   "source": [
    "# Features (X) - DFT components\n",
    "X = np.stack(df['adjusted'].values)  # Shape: (num_samples, 1682) - (flat) total input data\n",
    "\n",
    "# Labels (y) - QR codes\n",
    "y = np.stack(df['y_adjusted'].values)  # Shape: (num_samples, 841) - (flat)\n",
    "\n",
    "# Split the data into training and testing sets\n",
    "X_train, X_test, y_train, y_test = train_test_split(X, y, test_size=0.2, random_state=42) # decide on a rseed of 42 and a set set of 20%"
   ]
  },
  {
   "cell_type": "code",
   "execution_count": 29,
   "id": "6a447cf0-2a18-4b8d-b506-18ba447c7287",
   "metadata": {},
   "outputs": [],
   "source": [
    "class Model(nn.Module):\n",
    "    def __init__(self, in_features, out_features):\n",
    "        super(Model, self).__init__()\n",
    "        input_size = ((((L*2)+1)**2)*2)  # Matches the tf.keras InputLayer\n",
    "        output_size = 592  # Matches the final Dense(592) layer\n",
    "        \n",
    "        self.fc = nn.Linear(input_size, output_size)  # Single-layer\n",
    "\n",
    "\n",
    "    def forward(self, x):\n",
    "        x = self.fc(x)\n",
    "\n",
    "        return x"
   ]
  },
  {
   "cell_type": "code",
   "execution_count": 30,
   "id": "22a8893d-f7cc-4866-aeb5-628a3a99b4ac",
   "metadata": {},
   "outputs": [],
   "source": [
    "def evaluate_model(model, X_test, y_test, num_samples=5):\n",
    "    \"\"\"\n",
    "    evaluates the trained model on the test set and displays a few samples with their predictions.\n",
    "\n",
    "    parameters:\n",
    "    - model: The trained TensorFlow/Keras model.\n",
    "    - X_test: The input features for the test set (shape: (num_samples, 1682)).\n",
    "    - y_test: The true labels for the test set (shape: (num_samples, 841)).\n",
    "    - num_samples: The number of test samples to display.\n",
    "\n",
    "    returns:\n",
    "    - accuracy: The overall accuracy of the model on the test set.\n",
    "    \"\"\"\n",
    "    # make predictions on the test set\n",
    "    predictions = model.predict(X_test)\n",
    "    \n",
    "    # binarize the predictions (0 or 1)\n",
    "    predictions_binarized = (predictions > 0.5).astype(np.int32)\n",
    "    \n",
    "    # calculate accuracy\n",
    "    correct_predictions = np.sum(predictions_binarized == y_test)\n",
    "    total_elements = y_test.size\n",
    "    accuracy = correct_predictions / total_elements\n",
    "    print(f\"Test Accuracy: {accuracy * 100:.2f}%\")\n",
    "\n",
    "        \n",
    "    return accuracy"
   ]
  },
  {
   "cell_type": "code",
   "execution_count": 31,
   "id": "5f58ebb7-29c8-4ea2-b8eb-70985fc4faaa",
   "metadata": {},
   "outputs": [],
   "source": [
    "df['dft_rolled'] = df['adjusted'].apply(lambda x: np.roll(x.reshape(29,29,2), shift=(14, 14), axis=(0, 1)))"
   ]
  },
  {
   "cell_type": "code",
   "execution_count": 33,
   "id": "a2e424c9-c3da-40bd-91d6-a3199a28951c",
   "metadata": {},
   "outputs": [
    {
     "ename": "TypeError",
     "evalue": "can't convert np.ndarray of type numpy.object_. The only supported types are: float64, float32, float16, complex64, complex128, int64, int32, int16, int8, uint64, uint32, uint16, uint8, and bool.",
     "output_type": "error",
     "traceback": [
      "\u001b[31m---------------------------------------------------------------------------\u001b[39m",
      "\u001b[31mTypeError\u001b[39m                                 Traceback (most recent call last)",
      "\u001b[36mCell\u001b[39m\u001b[36m \u001b[39m\u001b[32mIn[33]\u001b[39m\u001b[32m, line 58\u001b[39m\n\u001b[32m     56\u001b[39m \u001b[38;5;66;03m# Convert to PyTorch tensors\u001b[39;00m\n\u001b[32m     57\u001b[39m X_train_tensor = torch.tensor(X_train, dtype=torch.float32)\n\u001b[32m---> \u001b[39m\u001b[32m58\u001b[39m y_train_tensor = \u001b[43mtorch\u001b[49m\u001b[43m.\u001b[49m\u001b[43mtensor\u001b[49m\u001b[43m(\u001b[49m\u001b[43my_train\u001b[49m\u001b[43m,\u001b[49m\u001b[43m \u001b[49m\u001b[43mdtype\u001b[49m\u001b[43m=\u001b[49m\u001b[43mtorch\u001b[49m\u001b[43m.\u001b[49m\u001b[43mfloat32\u001b[49m\u001b[43m)\u001b[49m\n\u001b[32m     59\u001b[39m train_dataset = TensorDataset(X_train_tensor, y_train_tensor)\n\u001b[32m     60\u001b[39m train_loader = DataLoader(train_dataset, batch_size=\u001b[32m32\u001b[39m, shuffle=\u001b[38;5;28;01mTrue\u001b[39;00m)\n",
      "\u001b[31mTypeError\u001b[39m: can't convert np.ndarray of type numpy.object_. The only supported types are: float64, float32, float16, complex64, complex128, int64, int32, int16, int8, uint64, uint32, uint16, uint8, and bool."
     ]
    }
   ],
   "source": [
    "import torch.optim as optim\n",
    "from torch.utils.data import DataLoader, TensorDataset\n",
    "\n",
    "\n",
    "# Define Model Class\n",
    "class Model(nn.Module):\n",
    "    def __init__(self, L):\n",
    "        super(Model, self).__init__()\n",
    "        input_size = ((((L*2)+1)**2)*2)  # Adjusts input size for L\n",
    "        output_size = 592  # Matches TensorFlow model\n",
    "        self.fc = nn.Linear(input_size, output_size)\n",
    "\n",
    "    def forward(self, x):\n",
    "        return self.fc(x)  # No activation for regression\n",
    "\n",
    "# Training Loop\n",
    "def train_model(model, train_loader, criterion, optimizer, epochs=25):\n",
    "    model.train()\n",
    "    for epoch in range(epochs):\n",
    "        for batch_x, batch_y in train_loader:\n",
    "            batch_x, batch_y = batch_x.to(device), batch_y.to(device)\n",
    "            optimizer.zero_grad()\n",
    "            outputs = model(batch_x)\n",
    "            loss = criterion(outputs, batch_y)\n",
    "            loss.backward()\n",
    "            optimizer.step()\n",
    "        print(f\"Epoch {epoch+1}/{epochs}, Loss: {loss.item():.4f}\")\n",
    "\n",
    "# Evaluation Function\n",
    "def evaluate_model(model, X_test, y_test):\n",
    "    model.eval()\n",
    "    with torch.no_grad():\n",
    "        X_test = torch.tensor(X_test, dtype=torch.float32).to(device)\n",
    "        y_test = torch.tensor(y_test, dtype=torch.float32).to(device)\n",
    "        predictions = model(X_test)\n",
    "        accuracy = (predictions.argmax(dim=1) == y_test.argmax(dim=1)).float().mean().item()\n",
    "    return accuracy\n",
    "\n",
    "# Device Setup (GPU if available)\n",
    "device = torch.device(\"cuda\" if torch.cuda.is_available() else \"cpu\")\n",
    "\n",
    "# Main Loop Over L Values\n",
    "L = 10\n",
    "stat = []\n",
    "for L in range(10, 0, -1):\n",
    "    # Extract L features\n",
    "    df['L'] = df['dft_rolled'].apply(lambda x: get_centered_subarray(x, L).flatten())\n",
    "\n",
    "    # Convert features to numpy arrays\n",
    "    X = np.stack(df['L'].values)  # Shape: (num_samples, ((L*2)+1)*2)\n",
    "    y = np.stack(df['y_adjusted'].values)  # Assuming `df['target']` contains labels\n",
    "\n",
    "    # Split dataset\n",
    "    X_train, X_test, y_train, y_test = train_test_split(X, y, test_size=0.2, random_state=42)\n",
    "\n",
    "    # Convert to PyTorch tensors\n",
    "    X_train_tensor = torch.tensor(X_train, dtype=torch.float32)\n",
    "    y_train_tensor = torch.tensor(y_train, dtype=torch.float32)\n",
    "    train_dataset = TensorDataset(X_train_tensor, y_train_tensor)\n",
    "    train_loader = DataLoader(train_dataset, batch_size=32, shuffle=True)\n",
    "\n",
    "    # Initialize Model, Optimizer, and Loss Function\n",
    "    model = Model(L).to(device)\n",
    "    optimizer = optim.SGD(model.parameters(), lr=0.001)\n",
    "    criterion = nn.MSELoss()  # Assuming a regression task\n",
    "\n",
    "    # Train Model\n",
    "    train_model(model, train_loader, criterion, optimizer, epochs=25)\n",
    "\n",
    "    # Evaluate Model\n",
    "    accuracy = evaluate_model(model, X_test, y_test)\n",
    "    stat.append((L, accuracy))\n",
    "\n",
    "    print(stat)\n"
   ]
  },
  {
   "cell_type": "code",
   "execution_count": null,
   "id": "85aafc53-9c8c-47e9-863e-fdb22f5cd805",
   "metadata": {},
   "outputs": [],
   "source": [
    "fig, ax = plt.subplots(figsize=(8, 6))\n",
    "ax.grid(True, which='both', linestyle='--', linewidth=0.5)\n",
    "ax.set_xlabel('Epochs', fontsize=14)\n",
    "ax.set_ylabel('Pixel Accuracy (%)', fontsize=14)\n",
    "ax.set_title('L10 70k samples: Acc vs epoch')\n",
    "ax.plot([st[0] for st in stat], [st[1] for st in stat]) # plots accuracy vs L -- we can add labels later!"
   ]
  }
 ],
 "metadata": {
  "kernelspec": {
   "display_name": "Python 3 (ipykernel)",
   "language": "python",
   "name": "python3"
  },
  "language_info": {
   "codemirror_mode": {
    "name": "ipython",
    "version": 3
   },
   "file_extension": ".py",
   "mimetype": "text/x-python",
   "name": "python",
   "nbconvert_exporter": "python",
   "pygments_lexer": "ipython3",
   "version": "3.12.1"
  }
 },
 "nbformat": 4,
 "nbformat_minor": 5
}
