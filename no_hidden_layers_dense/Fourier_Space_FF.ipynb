{
 "cells": [
  {
   "cell_type": "code",
   "execution_count": 2,
   "id": "da55bb62-cc1c-4356-9a1a-bfa78ec13505",
   "metadata": {},
   "outputs": [
    {
     "name": "stderr",
     "output_type": "stream",
     "text": [
      "2024-11-05 21:30:32.946944: I tensorflow/core/util/port.cc:113] oneDNN custom operations are on. You may see slightly different numerical results due to floating-point round-off errors from different computation orders. To turn them off, set the environment variable `TF_ENABLE_ONEDNN_OPTS=0`.\n",
      "2024-11-05 21:30:32.972801: E external/local_xla/xla/stream_executor/cuda/cuda_dnn.cc:9261] Unable to register cuDNN factory: Attempting to register factory for plugin cuDNN when one has already been registered\n",
      "2024-11-05 21:30:32.972828: E external/local_xla/xla/stream_executor/cuda/cuda_fft.cc:607] Unable to register cuFFT factory: Attempting to register factory for plugin cuFFT when one has already been registered\n",
      "2024-11-05 21:30:32.973344: E external/local_xla/xla/stream_executor/cuda/cuda_blas.cc:1515] Unable to register cuBLAS factory: Attempting to register factory for plugin cuBLAS when one has already been registered\n",
      "2024-11-05 21:30:32.976929: I tensorflow/core/platform/cpu_feature_guard.cc:182] This TensorFlow binary is optimized to use available CPU instructions in performance-critical operations.\n",
      "To enable the following instructions: AVX2 AVX_VNNI FMA, in other operations, rebuild TensorFlow with the appropriate compiler flags.\n",
      "2024-11-05 21:30:35.221911: W tensorflow/compiler/tf2tensorrt/utils/py_utils.cc:38] TF-TRT Warning: Could not find TensorRT\n"
     ]
    }
   ],
   "source": [
    "import numpy as np\n",
    "import pandas as pd\n",
    "import os, glob\n",
    "import matplotlib.pyplot as plt\n",
    "import tensorflow as tf\n",
    "from tensorflow.keras.layers import Dense, Input\n",
    "from tensorflow.keras.models import Sequential\n",
    "from sklearn.model_selection import train_test_split\n",
    "from tensorflow.keras import layers, models # redundant ish import -- resolve later"
   ]
  },
  {
   "cell_type": "code",
   "execution_count": 3,
   "id": "75e44a91-92e6-46cc-8ebe-ef9d21f150d8",
   "metadata": {},
   "outputs": [
    {
     "data": {
      "text/plain": [
       "0       1111111000001011101100111111110000010111110101...\n",
       "1       1111111000101010001100111111110000010001001101...\n",
       "2       1111111010011111001010111111110000010111011101...\n",
       "3       1111111010110001001010111111110000010111110010...\n",
       "4       1111111000100001101100111111110000010001101100...\n",
       "                              ...                        \n",
       "8641    1111111011110110111010111111110000010101010001...\n",
       "8642    1111111011000000001100111111110000010010001001...\n",
       "8643    1111111010001011001000111111110000010110101111...\n",
       "8644    1111111011100001001010111111110000010101000110...\n",
       "8645    1111111000010101101100111111110000010101100110...\n",
       "Name:  code, Length: 8646, dtype: object"
      ]
     },
     "execution_count": 3,
     "metadata": {},
     "output_type": "execute_result"
    }
   ],
   "source": [
    "df = pd.read_csv('../codes_og.csv') # reads in codes csv as a mutable df :-) contains message, ecl, code, dft cols\n",
    "df[' code']"
   ]
  },
  {
   "cell_type": "code",
   "execution_count": 14,
   "id": "ae778081-b542-4219-8da5-3333c186e280",
   "metadata": {},
   "outputs": [
    {
     "ename": "KeyError",
     "evalue": "'code'",
     "output_type": "error",
     "traceback": [
      "\u001b[0;31m---------------------------------------------------------------------------\u001b[0m",
      "\u001b[0;31mKeyError\u001b[0m                                  Traceback (most recent call last)",
      "File \u001b[0;32m~/miniconda3/envs/csci373/lib/python3.11/site-packages/pandas/core/indexes/base.py:3802\u001b[0m, in \u001b[0;36mIndex.get_loc\u001b[0;34m(self, key)\u001b[0m\n\u001b[1;32m   3801\u001b[0m \u001b[38;5;28;01mtry\u001b[39;00m:\n\u001b[0;32m-> 3802\u001b[0m     \u001b[38;5;28;01mreturn\u001b[39;00m \u001b[38;5;28;43mself\u001b[39;49m\u001b[38;5;241;43m.\u001b[39;49m\u001b[43m_engine\u001b[49m\u001b[38;5;241;43m.\u001b[39;49m\u001b[43mget_loc\u001b[49m\u001b[43m(\u001b[49m\u001b[43mcasted_key\u001b[49m\u001b[43m)\u001b[49m\n\u001b[1;32m   3803\u001b[0m \u001b[38;5;28;01mexcept\u001b[39;00m \u001b[38;5;167;01mKeyError\u001b[39;00m \u001b[38;5;28;01mas\u001b[39;00m err:\n",
      "File \u001b[0;32mindex.pyx:153\u001b[0m, in \u001b[0;36mpandas._libs.index.IndexEngine.get_loc\u001b[0;34m()\u001b[0m\n",
      "File \u001b[0;32mindex.pyx:182\u001b[0m, in \u001b[0;36mpandas._libs.index.IndexEngine.get_loc\u001b[0;34m()\u001b[0m\n",
      "File \u001b[0;32mpandas/_libs/hashtable_class_helper.pxi:7081\u001b[0m, in \u001b[0;36mpandas._libs.hashtable.PyObjectHashTable.get_item\u001b[0;34m()\u001b[0m\n",
      "File \u001b[0;32mpandas/_libs/hashtable_class_helper.pxi:7089\u001b[0m, in \u001b[0;36mpandas._libs.hashtable.PyObjectHashTable.get_item\u001b[0;34m()\u001b[0m\n",
      "\u001b[0;31mKeyError\u001b[0m: 'code'",
      "\nThe above exception was the direct cause of the following exception:\n",
      "\u001b[0;31mKeyError\u001b[0m                                  Traceback (most recent call last)",
      "Cell \u001b[0;32mIn[14], line 1\u001b[0m\n\u001b[0;32m----> 1\u001b[0m df[\u001b[38;5;124m'\u001b[39m\u001b[38;5;124mcode_oned\u001b[39m\u001b[38;5;124m'\u001b[39m] \u001b[38;5;241m=\u001b[39m \u001b[43mdf\u001b[49m\u001b[43m[\u001b[49m\u001b[38;5;124;43m'\u001b[39;49m\u001b[38;5;124;43mcode\u001b[39;49m\u001b[38;5;124;43m'\u001b[39;49m\u001b[43m]\u001b[49m\u001b[38;5;241m.\u001b[39mapply(\u001b[38;5;28;01mlambda\u001b[39;00m x: np\u001b[38;5;241m.\u001b[39marray([\u001b[38;5;28mint\u001b[39m(digit) \u001b[38;5;28;01mfor\u001b[39;00m digit \u001b[38;5;129;01min\u001b[39;00m x])) \u001b[38;5;66;03m# adds a code_oned column to our df which parses our entries from strs to ints\u001b[39;00m\n",
      "File \u001b[0;32m~/miniconda3/envs/csci373/lib/python3.11/site-packages/pandas/core/frame.py:4090\u001b[0m, in \u001b[0;36mDataFrame.__getitem__\u001b[0;34m(self, key)\u001b[0m\n\u001b[1;32m   4088\u001b[0m \u001b[38;5;28;01mif\u001b[39;00m \u001b[38;5;28mself\u001b[39m\u001b[38;5;241m.\u001b[39mcolumns\u001b[38;5;241m.\u001b[39mnlevels \u001b[38;5;241m>\u001b[39m \u001b[38;5;241m1\u001b[39m:\n\u001b[1;32m   4089\u001b[0m     \u001b[38;5;28;01mreturn\u001b[39;00m \u001b[38;5;28mself\u001b[39m\u001b[38;5;241m.\u001b[39m_getitem_multilevel(key)\n\u001b[0;32m-> 4090\u001b[0m indexer \u001b[38;5;241m=\u001b[39m \u001b[38;5;28;43mself\u001b[39;49m\u001b[38;5;241;43m.\u001b[39;49m\u001b[43mcolumns\u001b[49m\u001b[38;5;241;43m.\u001b[39;49m\u001b[43mget_loc\u001b[49m\u001b[43m(\u001b[49m\u001b[43mkey\u001b[49m\u001b[43m)\u001b[49m\n\u001b[1;32m   4091\u001b[0m \u001b[38;5;28;01mif\u001b[39;00m is_integer(indexer):\n\u001b[1;32m   4092\u001b[0m     indexer \u001b[38;5;241m=\u001b[39m [indexer]\n",
      "File \u001b[0;32m~/miniconda3/envs/csci373/lib/python3.11/site-packages/pandas/core/indexes/base.py:3809\u001b[0m, in \u001b[0;36mIndex.get_loc\u001b[0;34m(self, key)\u001b[0m\n\u001b[1;32m   3804\u001b[0m     \u001b[38;5;28;01mif\u001b[39;00m \u001b[38;5;28misinstance\u001b[39m(casted_key, \u001b[38;5;28mslice\u001b[39m) \u001b[38;5;129;01mor\u001b[39;00m (\n\u001b[1;32m   3805\u001b[0m         \u001b[38;5;28misinstance\u001b[39m(casted_key, abc\u001b[38;5;241m.\u001b[39mIterable)\n\u001b[1;32m   3806\u001b[0m         \u001b[38;5;129;01mand\u001b[39;00m \u001b[38;5;28many\u001b[39m(\u001b[38;5;28misinstance\u001b[39m(x, \u001b[38;5;28mslice\u001b[39m) \u001b[38;5;28;01mfor\u001b[39;00m x \u001b[38;5;129;01min\u001b[39;00m casted_key)\n\u001b[1;32m   3807\u001b[0m     ):\n\u001b[1;32m   3808\u001b[0m         \u001b[38;5;28;01mraise\u001b[39;00m InvalidIndexError(key)\n\u001b[0;32m-> 3809\u001b[0m     \u001b[38;5;28;01mraise\u001b[39;00m \u001b[38;5;167;01mKeyError\u001b[39;00m(key) \u001b[38;5;28;01mfrom\u001b[39;00m \u001b[38;5;21;01merr\u001b[39;00m\n\u001b[1;32m   3810\u001b[0m \u001b[38;5;28;01mexcept\u001b[39;00m \u001b[38;5;167;01mTypeError\u001b[39;00m:\n\u001b[1;32m   3811\u001b[0m     \u001b[38;5;66;03m# If we have a listlike key, _check_indexing_error will raise\u001b[39;00m\n\u001b[1;32m   3812\u001b[0m     \u001b[38;5;66;03m#  InvalidIndexError. Otherwise we fall through and re-raise\u001b[39;00m\n\u001b[1;32m   3813\u001b[0m     \u001b[38;5;66;03m#  the TypeError.\u001b[39;00m\n\u001b[1;32m   3814\u001b[0m     \u001b[38;5;28mself\u001b[39m\u001b[38;5;241m.\u001b[39m_check_indexing_error(key)\n",
      "\u001b[0;31mKeyError\u001b[0m: 'code'"
     ]
    }
   ],
   "source": [
    "df['code_oned'] = df['code'].apply(lambda x: np.array([int(digit) for digit in x])) # adds a code_oned column to our df which parses our entries from strs to ints"
   ]
  },
  {
   "cell_type": "code",
   "execution_count": 4,
   "id": "4a7ebdaa-a15e-4bf9-b0d1-bd739bee6dd1",
   "metadata": {},
   "outputs": [],
   "source": [
    "# grabs a centered subarray of a given array with dimensions (2L+1) by (2L+1)\n",
    "def get_centered_subarray(array, L):\n",
    "    # old way -- \n",
    "    # L = (L * 2) + 1\n",
    "    # start = center - (L // 2)\n",
    "    # end = center + (L + 1) // 2\n",
    "    n = array.shape[0]\n",
    "    center = n // 2\n",
    "    start = center - L\n",
    "    end = center + 1 + L # start count after our center square\n",
    "    # Adjust indices to stay within array bounds\n",
    "    start = max(0, start)\n",
    "    end = min(n, end)\n",
    "    return array[start:end, start:end]"
   ]
  },
  {
   "cell_type": "code",
   "execution_count": 5,
   "id": "b4216e51-0a4b-49a2-97bf-aa37278f8c92",
   "metadata": {},
   "outputs": [],
   "source": [
    "# function to split DFT into real and imaginary parts and reshape them\n",
    "def split_dft(dft_str):\n",
    "    complex_numbers = [complex(c.strip()) for c in dft_str.strip('()').split(')(')]\n",
    "    real_part = np.array([c.real for c in complex_numbers])\n",
    "    imag_part = np.array([c.imag for c in complex_numbers])\n",
    "    return real_part, imag_part\n",
    "\n",
    "# apply the function to each row\n",
    "df['dft_real'], df['dft_imag'] = zip(*df['dft'].apply(split_dft))\n"
   ]
  },
  {
   "cell_type": "code",
   "execution_count": 6,
   "id": "4c54dbf5-ca10-4dc9-a2fd-56e5ec9a8a5d",
   "metadata": {},
   "outputs": [],
   "source": [
    "# function to take dft string into complex tuple stored as (a, ib)\n",
    "def combine_dft_full(dft_str):\n",
    "    complex_numbers = [complex(c.strip()) for c in dft_str.strip('()').split(')(')]\n",
    "    real_part = np.array([c.real for c in complex_numbers])\n",
    "    # real_part = zero_pad_right(0.5, real_part)\n",
    "    imag_part = np.array([c.imag for c in complex_numbers])\n",
    "    # imag_part = zero_pad_right(0.5, imag_part)\n",
    "    return np.append(real_part, imag_part)\n",
    "\n",
    "df['dft_stacked'] = df['dft'].apply(combine_dft_full)"
   ]
  },
  {
   "cell_type": "code",
   "execution_count": 7,
   "id": "7108b75f-2ef5-4cc3-9e66-c4b088209485",
   "metadata": {},
   "outputs": [],
   "source": [
    "# Features (X) - DFT components\n",
    "X = np.stack(df['dft_stacked'].values)  # Shape: (num_samples, 1682) - (flat) total input data\n",
    "\n",
    "# Labels (y) - QR codes\n",
    "y = np.stack(df['code_oned'].values)  # Shape: (num_samples, 841) - (flat)\n",
    "\n",
    "# Split the data into training and testing sets\n",
    "X_train, X_test, y_train, y_test = train_test_split(X, y, test_size=0.2, random_state=42) # decide on a rseed of 42 and a set set of 20%"
   ]
  },
  {
   "cell_type": "code",
   "execution_count": 8,
   "id": "7eebcd56-3b99-4099-b5e1-6568f02f975c",
   "metadata": {},
   "outputs": [],
   "source": [
    "# initializes our model :-)\n",
    "def init_model(L):\n",
    "    model = tf.keras.Sequential()\n",
    "    \n",
    "    # Add the input layer (implicitly defined by the first layer)\n",
    "    model.add(tf.keras.layers.InputLayer(input_shape=((((L*2)+1)**2)*2,))) # shape is twice the size of our L box, one for real part and one for imaginary\n",
    "    \n",
    "    # Add the output layer with Y units (no activation for regression, 'softmax' or 'sigmoid' for classification)\n",
    "    model.add(tf.keras.layers.Dense(841))\n",
    "    \n",
    "    optimizer = tf.keras.optimizers.SGD(learning_rate=0.001)\n",
    "    # Compile the model (use appropriate loss and metrics for your task)\n",
    "    model.compile(optimizer=optimizer, loss='mse')  # or 'categorical_crossentropy' for classification\n",
    "    return model"
   ]
  },
  {
   "cell_type": "code",
   "execution_count": 10,
   "id": "4c1fd4ff-b94c-452d-bb36-b61f41e86b5a",
   "metadata": {},
   "outputs": [],
   "source": [
    "def evaluate_model(model, X_test, y_test, num_samples=5):\n",
    "    \"\"\"\n",
    "    evaluates the trained model on the test set and displays a few samples with their predictions.\n",
    "\n",
    "    parameters:\n",
    "    - model: The trained TensorFlow/Keras model.\n",
    "    - X_test: The input features for the test set (shape: (num_samples, 1682)).\n",
    "    - y_test: The true labels for the test set (shape: (num_samples, 841)).\n",
    "    - num_samples: The number of test samples to display.\n",
    "\n",
    "    returns:\n",
    "    - accuracy: The overall accuracy of the model on the test set.\n",
    "    \"\"\"\n",
    "    # make predictions on the test set\n",
    "    predictions = model.predict(X_test)\n",
    "    \n",
    "    # binarize the predictions (0 or 1)\n",
    "    predictions_binarized = (predictions > 0.5).astype(np.int32)\n",
    "    \n",
    "    # calculate accuracy\n",
    "    correct_predictions = np.sum(predictions_binarized == y_test)\n",
    "    total_elements = y_test.size\n",
    "    accuracy = correct_predictions / total_elements\n",
    "    print(f\"Test Accuracy: {accuracy * 100:.2f}%\")\n",
    "\n",
    "    # displays some predictions!\n",
    "    for i in range(num_samples):\n",
    "        plt.figure(figsize=(12, 4))\n",
    "\n",
    "        # original QR code\n",
    "        plt.subplot(1, 3, 1)\n",
    "        plt.title(\"Original QR Code\")\n",
    "        plt.imshow(y_test[i].reshape(29, 29), cmap='gray')\n",
    "        plt.axis('off')\n",
    "\n",
    "        # predicted QR code\n",
    "        plt.subplot(1, 3, 2)\n",
    "        plt.title(\"Predicted QR Code\")\n",
    "        plt.imshow(predictions_binarized[i].reshape(29, 29), cmap='gray')\n",
    "        plt.axis('off')\n",
    "\n",
    "        # difference (Error)\n",
    "        plt.subplot(1, 3, 3)\n",
    "        plt.title(\"Difference (Error)\")\n",
    "        plt.imshow(y_test[i].reshape(29, 29) - predictions_binarized[i].reshape(29, 29), cmap='gray')\n",
    "        plt.axis('off')\n",
    "\n",
    "        plt.show()\n",
    "        \n",
    "    return accuracy\n",
    "\n",
    "# # example usage:\n",
    "# accuracy = evaluate_model(model, X_test[:999], y_test[:999], num_samples=5)\n"
   ]
  },
  {
   "cell_type": "code",
   "execution_count": 11,
   "id": "172fcef6-30f2-435f-b6de-74d15171da09",
   "metadata": {},
   "outputs": [],
   "source": [
    "# rolls it to be correctly centered\n",
    "df['dft_imag_rolled'] = df['dft_imag'].apply(lambda x: np.roll(x.reshape(29,29), shift=(14, 14), axis=(0, 1)))\n",
    "df['dft_real_rolled'] = df['dft_real'].apply(lambda x: np.roll(x.reshape(29,29), shift=(14, 14), axis=(0, 1)))\n",
    "\n",
    "# df['dft_imag_rolled'][0].shape # ensures our roll was successfull"
   ]
  },
  {
   "cell_type": "code",
   "execution_count": 1,
   "id": "79d05682-aa27-44d4-af28-ad5f23856d97",
   "metadata": {},
   "outputs": [
    {
     "ename": "NameError",
     "evalue": "name 'df' is not defined",
     "output_type": "error",
     "traceback": [
      "\u001b[0;31m---------------------------------------------------------------------------\u001b[0m",
      "\u001b[0;31mNameError\u001b[0m                                 Traceback (most recent call last)",
      "Cell \u001b[0;32mIn[1], line 5\u001b[0m\n\u001b[1;32m      2\u001b[0m stat \u001b[38;5;241m=\u001b[39m []\n\u001b[1;32m      3\u001b[0m \u001b[38;5;28;01mfor\u001b[39;00m L \u001b[38;5;129;01min\u001b[39;00m \u001b[38;5;28mrange\u001b[39m(\u001b[38;5;241m10\u001b[39m,\u001b[38;5;241m0\u001b[39m,\u001b[38;5;241m-\u001b[39m\u001b[38;5;241m1\u001b[39m):\n\u001b[1;32m      4\u001b[0m     \u001b[38;5;66;03m# adds L cols to df, one for real/imag component\u001b[39;00m\n\u001b[0;32m----> 5\u001b[0m     df[\u001b[38;5;124m'\u001b[39m\u001b[38;5;124mL_imag\u001b[39m\u001b[38;5;124m'\u001b[39m] \u001b[38;5;241m=\u001b[39m \u001b[43mdf\u001b[49m[\u001b[38;5;124m'\u001b[39m\u001b[38;5;124mdft_imag_rolled\u001b[39m\u001b[38;5;124m'\u001b[39m]\u001b[38;5;241m.\u001b[39mapply(\u001b[38;5;28;01mlambda\u001b[39;00m x: get_centered_subarray(x, L)\u001b[38;5;241m.\u001b[39mflatten())\n\u001b[1;32m      6\u001b[0m     df[\u001b[38;5;124m'\u001b[39m\u001b[38;5;124mL_real\u001b[39m\u001b[38;5;124m'\u001b[39m]\u001b[38;5;241m=\u001b[39m df[\u001b[38;5;124m'\u001b[39m\u001b[38;5;124mdft_real_rolled\u001b[39m\u001b[38;5;124m'\u001b[39m]\u001b[38;5;241m.\u001b[39mapply(\u001b[38;5;28;01mlambda\u001b[39;00m x: get_centered_subarray(x, L)\u001b[38;5;241m.\u001b[39mflatten())\n\u001b[1;32m      7\u001b[0m     \u001b[38;5;66;03m# concats real and imag components into a single col\u001b[39;00m\n",
      "\u001b[0;31mNameError\u001b[0m: name 'df' is not defined"
     ]
    }
   ],
   "source": [
    "L = 10\n",
    "stat = []\n",
    "for L in range(10,0,-1):\n",
    "    # adds L cols to df, one for real/imag component\n",
    "    df['L_imag'] = df['dft_imag_rolled'].apply(lambda x: get_centered_subarray(x, L).flatten())\n",
    "    df['L_real']= df['dft_real_rolled'].apply(lambda x: get_centered_subarray(x, L).flatten())\n",
    "    # concats real and imag components into a single col\n",
    "    df['L'] = df.apply(lambda row: np.concatenate((row['L_real'], row['L_imag'])), axis=1)\n",
    "    model = init_model(L) # inits our model\n",
    "    \n",
    "    # features (X) - DFT components\n",
    "    X = np.stack(df['L'].values)  # shape: (num_samples, ((L*2)+1)*2) - due to dims of L box * 2 for real and imag\n",
    "    # split the data into training and testing sets\n",
    "    X_train, X_test, y_train, y_test = train_test_split(X, y, test_size=0.2, random_state=42)\n",
    "\n",
    "    # calculate and append (L, accuracy)\n",
    "    model.fit(X_train, y_train, epochs=200, validation_data=[X_test[1000:], y_test[1000:]])\n",
    "    accuracy = evaluate_model(model, X_test[:999], y_test[:999], num_samples=1)\n",
    "    stat.append((L, accuracy))\n",
    "\n",
    "    print(stat)"
   ]
  },
  {
   "cell_type": "code",
   "execution_count": 19,
   "id": "36dc24d8-4f1f-4642-b5c1-564294819b2a",
   "metadata": {},
   "outputs": [
    {
     "data": {
      "text/plain": [
       "[<matplotlib.lines.Line2D at 0x1ff77891b80>]"
      ]
     },
     "execution_count": 19,
     "metadata": {},
     "output_type": "execute_result"
    },
    {
     "data": {
      "image/png": "[encoded data removed]",
      "text/plain": [
       "<Figure size 800x600 with 1 Axes>"
      ]
     },
     "metadata": {},
     "output_type": "display_data"
    }
   ],
   "source": [
    "fig, ax = plt.subplots(figsize=(8, 6))\n",
    "ax.grid(True, which='both', linestyle='--', linewidth=0.5)\n",
    "ax.set_xlabel('L value', fontsize=14)\n",
    "ax.set_ylabel('Pixel Accuracy (%)', fontsize=14)\n",
    "ax.plot([st[0] for st in stat], [st[1] for st in stat]) # plots accuracy vs L -- we can add labels later!"
   ]
  },
  {
   "cell_type": "code",
   "execution_count": 25,
   "id": "8f80b7f6-4707-4a1e-87d7-2047c852d36e",
   "metadata": {},
   "outputs": [
    {
     "name": "stderr",
     "output_type": "stream",
     "text": [
      "C:\\Users\\kenne\\AppData\\Local\\Temp\\ipykernel_23916\\1874420792.py:2: UserWarning: Matplotlib is currently using module://matplotlib_inline.backend_inline, which is a non-GUI backend, so cannot show the figure.\n",
      "  fig.show()\n"
     ]
    }
   ],
   "source": [
    "fig.savefig('200_epoch_accuracy.png', dpi=300)"
   ]
  },
  {
   "cell_type": "code",
   "execution_count": 26,
   "id": "da2a11c5-6869-4cc7-b91b-731fad55ba14",
   "metadata": {},
   "outputs": [
    {
     "data": {
      "text/plain": [
       "[(10, 0.9058618666228654),\n",
       " (9, 0.8744749505748317),\n",
       " (8, 0.8531516058269922),\n",
       " (7, 0.8353835404965012),\n",
       " (6, 0.8207922547993891),\n",
       " (5, 0.8020684180018306),\n",
       " (4, 0.7836742807016291),\n",
       " (3, 0.7699221218840719),\n",
       " (2, 0.746309924669021),\n",
       " (1, 0.7178724503338059)]"
      ]
     },
     "execution_count": 26,
     "metadata": {},
     "output_type": "execute_result"
    }
   ],
   "source": [
    "stat"
   ]
  },
  {
   "cell_type": "code",
   "execution_count": null,
   "id": "de3770dc-a726-4a5a-82c8-7042b654b6bc",
   "metadata": {},
   "outputs": [],
   "source": []
  }
 ],
 "metadata": {
  "kernelspec": {
   "display_name": "csci373",
   "language": "python",
   "name": "python3"
  },
  "language_info": {
   "codemirror_mode": {
    "name": "ipython",
    "version": 3
   },
   "file_extension": ".py",
   "mimetype": "text/x-python",
   "name": "python",
   "nbconvert_exporter": "python",
   "pygments_lexer": "ipython3",
   "version": "3.11.7"
  }
 },
 "nbformat": 4,
 "nbformat_minor": 5
}
